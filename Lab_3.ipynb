{
  "nbformat": 4,
  "nbformat_minor": 0,
  "metadata": {
    "colab": {
      "name": "Lab 3.ipynb",
      "provenance": [],
      "collapsed_sections": [],
      "authorship_tag": "ABX9TyPvNix3m/nT1xk2K7z50vYJ",
      "include_colab_link": true
    },
    "kernelspec": {
      "name": "python3",
      "display_name": "Python 3"
    },
    "language_info": {
      "name": "python"
    },
    "accelerator": "GPU"
  },
  "cells": [
    {
      "cell_type": "markdown",
      "metadata": {
        "id": "view-in-github",
        "colab_type": "text"
      },
      "source": [
        "<a href=\"https://colab.research.google.com/github/chrishendra93/MI_Workshop/blob/main/Lab_3.ipynb\" target=\"_parent\"><img src=\"https://colab.research.google.com/assets/colab-badge.svg\" alt=\"Open In Colab\"/></a>"
      ]
    },
    {
      "cell_type": "code",
      "metadata": {
        "id": "Sd-0YK5MzfcZ"
      },
      "source": [
        "import os\n",
        "import matplotlib.pyplot as plt\n",
        "import pandas as pd\n",
        "import numpy as np\n",
        "from tqdm.notebook import tqdm"
      ],
      "execution_count": 3,
      "outputs": []
    },
    {
      "cell_type": "code",
      "metadata": {
        "id": "68iJXH7HEdFd"
      },
      "source": [
        "np.random.seed(0)"
      ],
      "execution_count": 4,
      "outputs": []
    },
    {
      "cell_type": "code",
      "metadata": {
        "colab": {
          "base_uri": "https://localhost:8080/"
        },
        "id": "PKcIGKbFEenn",
        "outputId": "e7cc7810-1e9f-438c-caf7-f515dfed3d03"
      },
      "source": [
        "from google.colab import drive\n",
        "drive.mount('/content/drive')"
      ],
      "execution_count": 5,
      "outputs": [
        {
          "output_type": "stream",
          "text": [
            "Mounted at /content/drive\n"
          ],
          "name": "stdout"
        }
      ]
    },
    {
      "cell_type": "code",
      "metadata": {
        "colab": {
          "base_uri": "https://localhost:8080/"
        },
        "id": "l0wmIe0PEfVs",
        "outputId": "eac321b1-f510-4f3c-976e-6ae844005a35"
      },
      "source": [
        "root_dir = \"/content/drive/MyDrive/Journal Club MIL/mnist_clr\"\n",
        "\n",
        "mnist_columns = [\"label\"] + [\"features_{}\".format(i) for i in range(28 ** 2)]\n",
        "mnist_train = pd.read_csv(\"./sample_data/mnist_train_small.csv\", names=mnist_columns)\n",
        "mnist_test = pd.read_csv(\"./sample_data/mnist_test.csv\", names=mnist_columns)\n",
        "mnist_arr_train = mnist_train[[\"features_{}\".format(i) for i in range(28 ** 2)]].values\n",
        "mnist_arr_test = mnist_test[[\"features_{}\".format(i) for i in range(28 ** 2)]].values\n",
        "\n",
        "X_train = np.load(os.path.join(root_dir, \"train_features.npy\"))\n",
        "X_test = np.load(os.path.join(root_dir, \"test_features.npy\"))\n",
        "y_train = np.load(os.path.join(root_dir, \"train_labels.npy\"))\n",
        "y_test = np.load(os.path.join(root_dir, \"test_labels.npy\"))\n",
        "\n",
        "print(np.all(y_train == mnist_train[\"label\"].values))\n",
        "print(np.all(y_test == mnist_test[\"label\"].values))\n",
        "\n"
      ],
      "execution_count": 6,
      "outputs": [
        {
          "output_type": "stream",
          "text": [
            "True\n",
            "True\n"
          ],
          "name": "stdout"
        }
      ]
    },
    {
      "cell_type": "code",
      "metadata": {
        "id": "iwAZdkKiElJH"
      },
      "source": [
        "import copy\n",
        "\n",
        "def create_bags(mnist_df):\n",
        "    \"\"\"\n",
        "    bags: {key1: [ind1, ind2, ind3],\n",
        "           key2: [ind1, ind2, ind3, ind4, ind5],\n",
        "           ... }\n",
        "    bag_lbls:\n",
        "        {key1: 0,\n",
        "         key2: 1,\n",
        "         ... }\n",
        "    \"\"\"\n",
        "    bags = []\n",
        "    i = 0\n",
        "    all_indices, all_labels = np.arange(len(mnist_df)), mnist_df[\"label\"].values\n",
        "    np.random.shuffle(all_indices)\n",
        "    bag_labels = []\n",
        "    all_labels = all_labels[all_indices]\n",
        "    while i < len(mnist_df):\n",
        "      bag_size = np.random.randint(3, 7)\n",
        "      indices = all_indices[i: i + bag_size]\n",
        "      labels = all_labels[i: i + bag_size]\n",
        "      bag_labels.append(get_bag_label(labels))\n",
        "      bags.append(indices)\n",
        "      i += bag_size\n",
        "    return np.array(bags), np.array(bag_labels)\n",
        "\n",
        "def get_bag_label(instance_labels):\n",
        "  return (np.any(instance_labels == 9) & np.any(instance_labels == 5))* 1\n"
      ],
      "execution_count": 39,
      "outputs": []
    },
    {
      "cell_type": "code",
      "metadata": {
        "id": "5_rqFKTHE674",
        "colab": {
          "base_uri": "https://localhost:8080/"
        },
        "outputId": "bfb581f1-d5d0-4ae0-8a04-a449464363f6"
      },
      "source": [
        "train_bags, train_labels = create_bags(mnist_train)\n",
        "test_bags, test_labels = create_bags(mnist_test)\n"
      ],
      "execution_count": 40,
      "outputs": [
        {
          "output_type": "stream",
          "text": [
            "/usr/local/lib/python3.7/dist-packages/ipykernel_launcher.py:26: VisibleDeprecationWarning: Creating an ndarray from ragged nested sequences (which is a list-or-tuple of lists-or-tuples-or ndarrays with different lengths or shapes) is deprecated. If you meant to do this, you must specify 'dtype=object' when creating the ndarray\n"
          ],
          "name": "stderr"
        }
      ]
    },
    {
      "cell_type": "code",
      "metadata": {
        "colab": {
          "base_uri": "https://localhost:8080/",
          "height": 393
        },
        "id": "hs3FBTyQE8Pp",
        "outputId": "56092512-4c66-4be8-9b35-ea32bfca7e4d"
      },
      "source": [
        "fig, axes = plt.subplots(1, 2, figsize=(5, 5))\n",
        "axes[0].hist(train_labels)\n",
        "axes[1].hist(test_labels)\n"
      ],
      "execution_count": 41,
      "outputs": [
        {
          "output_type": "execute_result",
          "data": {
            "text/plain": [
              "(array([1956.,    0.,    0.,    0.,    0.,    0.,    0.,    0.,    0.,\n",
              "         264.]),\n",
              " array([0. , 0.1, 0.2, 0.3, 0.4, 0.5, 0.6, 0.7, 0.8, 0.9, 1. ]),\n",
              " <a list of 10 Patch objects>)"
            ]
          },
          "metadata": {
            "tags": []
          },
          "execution_count": 41
        },
        {
          "output_type": "display_data",
          "data": {
            "image/png": "[encoded data removed]",
            "text/plain": [
              "<Figure size 360x360 with 2 Axes>"
            ]
          },
          "metadata": {
            "tags": [],
            "needs_background": "light"
          }
        }
      ]
    },
    {
      "cell_type": "code",
      "metadata": {
        "colab": {
          "base_uri": "https://localhost:8080/",
          "height": 375
        },
        "id": "Azt-0CNME9d0",
        "outputId": "febc1158-3ea8-4e0d-d6d3-e269d7ff8929"
      },
      "source": [
        "fig, axes = plt.subplots(1, 2, figsize=(5, 5))\n",
        "axes[0].hist([len(bag) for bag in train_bags])\n",
        "axes[1].hist([len(bag) for bag in test_bags])\n"
      ],
      "execution_count": 43,
      "outputs": [
        {
          "output_type": "execute_result",
          "data": {
            "text/plain": [
              "(array([569.,   0.,   0., 518.,   0.,   0., 577.,   0.,   0., 556.]),\n",
              " array([3. , 3.3, 3.6, 3.9, 4.2, 4.5, 4.8, 5.1, 5.4, 5.7, 6. ]),\n",
              " <a list of 10 Patch objects>)"
            ]
          },
          "metadata": {
            "tags": []
          },
          "execution_count": 43
        },
        {
          "output_type": "display_data",
          "data": {
            "image/png": "[encoded data removed]",
            "text/plain": [
              "<Figure size 360x360 with 2 Axes>"
            ]
          },
          "metadata": {
            "tags": [],
            "needs_background": "light"
          }
        }
      ]
    },
    {
      "cell_type": "code",
      "metadata": {
        "colab": {
          "base_uri": "https://localhost:8080/"
        },
        "id": "k9oGY9mJE-jC",
        "outputId": "e9c8d197-4d5a-43c1-c662-749c8e0e75a1"
      },
      "source": [
        "print(len(train_bags))\n",
        "print(len(test_bags))"
      ],
      "execution_count": 44,
      "outputs": [
        {
          "output_type": "stream",
          "text": [
            "4410\n",
            "2220\n"
          ],
          "name": "stdout"
        }
      ]
    },
    {
      "cell_type": "code",
      "metadata": {
        "colab": {
          "base_uri": "https://localhost:8080/",
          "height": 393
        },
        "id": "phLuRedhE_oM",
        "outputId": "f6d4a310-574d-4783-edb5-e0e067816f97"
      },
      "source": [
        "fig, axes = plt.subplots(1, 2, figsize=(5, 5))\n",
        "axes[0].hist(train_labels)\n",
        "axes[1].hist(test_labels)\n"
      ],
      "execution_count": 45,
      "outputs": [
        {
          "output_type": "execute_result",
          "data": {
            "text/plain": [
              "(array([1956.,    0.,    0.,    0.,    0.,    0.,    0.,    0.,    0.,\n",
              "         264.]),\n",
              " array([0. , 0.1, 0.2, 0.3, 0.4, 0.5, 0.6, 0.7, 0.8, 0.9, 1. ]),\n",
              " <a list of 10 Patch objects>)"
            ]
          },
          "metadata": {
            "tags": []
          },
          "execution_count": 45
        },
        {
          "output_type": "display_data",
          "data": {
            "image/png": "[encoded data removed]",
            "text/plain": [
              "<Figure size 360x360 with 2 Axes>"
            ]
          },
          "metadata": {
            "tags": [],
            "needs_background": "light"
          }
        }
      ]
    },
    {
      "cell_type": "code",
      "metadata": {
        "colab": {
          "base_uri": "https://localhost:8080/",
          "height": 375
        },
        "id": "dvuENsWJFPtB",
        "outputId": "f6163499-588e-4c16-d9e7-1ac39413a714"
      },
      "source": [
        "fig, axes = plt.subplots(1, 2, figsize=(5, 5))\n",
        "axes[0].hist([len(bag) for bag in train_bags])\n",
        "axes[1].hist([len(bag) for bag in test_bags])\n"
      ],
      "execution_count": 48,
      "outputs": [
        {
          "output_type": "execute_result",
          "data": {
            "text/plain": [
              "(array([569.,   0.,   0., 518.,   0.,   0., 577.,   0.,   0., 556.]),\n",
              " array([3. , 3.3, 3.6, 3.9, 4.2, 4.5, 4.8, 5.1, 5.4, 5.7, 6. ]),\n",
              " <a list of 10 Patch objects>)"
            ]
          },
          "metadata": {
            "tags": []
          },
          "execution_count": 48
        },
        {
          "output_type": "display_data",
          "data": {
            "image/png": "[encoded data removed]",
            "text/plain": [
              "<Figure size 360x360 with 2 Axes>"
            ]
          },
          "metadata": {
            "tags": [],
            "needs_background": "light"
          }
        }
      ]
    },
    {
      "cell_type": "code",
      "metadata": {
        "colab": {
          "base_uri": "https://localhost:8080/"
        },
        "id": "qyTJiy_0FQpl",
        "outputId": "1bcf7a9f-4a1e-4039-fcb0-1501db4fce92"
      },
      "source": [
        "print(len(train_bags))\n",
        "print(len(test_bags))"
      ],
      "execution_count": 49,
      "outputs": [
        {
          "output_type": "stream",
          "text": [
            "4410\n",
            "2220\n"
          ],
          "name": "stdout"
        }
      ]
    },
    {
      "cell_type": "code",
      "metadata": {
        "id": "BXT6FaKYFos0"
      },
      "source": [
        "import torch.nn.functional as F\n",
        "import torch\n",
        "from torch import nn\n",
        "from torch.nn import BCELoss\n",
        "from torch.optim import LBFGS, Adam\n",
        "from torch.utils.data import Dataset, DataLoader"
      ],
      "execution_count": 50,
      "outputs": []
    },
    {
      "cell_type": "code",
      "metadata": {
        "id": "cFYoZ0_cGP7Y"
      },
      "source": [
        "class LogisticRegressionMI(nn.Module):\n",
        "\n",
        "  def __init__(self, n_dim, mode='max'):\n",
        "    super(LogisticRegressionMI, self).__init__()\n",
        "    if mode not in ('max', 'mean'):\n",
        "      raise ValueError(\"Invalid mode {}, must be one of max or mean\".format(mode))\n",
        "    self.mode = mode\n",
        "    self.encoder = nn.Linear(n_dim, 1)\n",
        "    \n",
        "  def forward(self, x, indices):\n",
        "    x = self.encoder(x)\n",
        "    x = torch.sigmoid(x)\n",
        "    if self.mode == 'max':\n",
        "      x = torch.stack([torch.max(x[idx]) for idx in indices])\n",
        "    else:\n",
        "      x = torch.stack([torch.mean(x[idx]) for idx in indices])\n",
        "    return x\n",
        "  \n",
        "  def get_max_indices(self, x, indices):\n",
        "    x = self.encoder(x)\n",
        "    x = torch.sigmoid(x)\n",
        "    pred, max_indices = [], []\n",
        "    for idx in indices:\n",
        "      max_idx = torch.argmax(x[idx])\n",
        "      max_indices.append(idx[max_idx])\n",
        "      pred.append(x[idx][max_idx])\n",
        "    return torch.cat(pred), np.array(max_indices)\n",
        "\n",
        "\n",
        "class nnMI(nn.Module):\n",
        "\n",
        "  def __init__(self, encoder, mode='max'):\n",
        "    super(nnMI, self).__init__()\n",
        "    if mode not in ('max', 'mean'):\n",
        "      raise ValueError(\"Invalid mode {}, must be one of max or mean\".format(mode))\n",
        "    self.mode = mode\n",
        "    self.encoder = encoder\n",
        "    \n",
        "  def forward(self, x, indices):\n",
        "    x = self.encoder(x)\n",
        "    if self.mode == 'max':\n",
        "      x = torch.stack([torch.max(x[idx]) for idx in indices])\n",
        "    else:\n",
        "      x = torch.stack([torch.mean(x[idx]) for idx in indices])\n",
        "    return x\n",
        "\n",
        "  \n",
        "\n",
        "class nnMIMax(nn.Module):\n",
        "\n",
        "  def __init__(self, encoder, decoder, mode='max'):\n",
        "    super(nnMIMax, self).__init__()\n",
        "    if mode not in ('max', 'mean'):\n",
        "      raise ValueError(\"Invalid mode {}, must be one of max or mean\".format(mode))\n",
        "    self.mode = mode\n",
        "    self.encoder = encoder\n",
        "    self.decoder = decoder\n",
        "    \n",
        "  def forward(self, x, indices):\n",
        "    x = self.encoder(x)\n",
        "    if self.mode == 'max':\n",
        "      x = torch.stack([torch.max(x[idx], axis=0).values for idx in indices])\n",
        "    else:\n",
        "      x = torch.stack([torch.mean(x[idx], axis=0).values for idx in indices])\n",
        "    x = self.decoder(x)\n",
        "    return x\n",
        "\n"
      ],
      "execution_count": 51,
      "outputs": []
    },
    {
      "cell_type": "code",
      "metadata": {
        "id": "69IpL8GUIYx9"
      },
      "source": [
        "from sklearn.linear_model import LogisticRegression\n",
        "from sklearn.metrics import accuracy_score, balanced_accuracy_score, roc_curve, precision_recall_curve, auc\n",
        "from scipy.stats import mode\n",
        "\n",
        "def get_roc_auc(y_true, y_pred):\n",
        "    fpr, tpr, _  = roc_curve(y_true, y_pred)\n",
        "    roc_auc = auc(fpr, tpr)\n",
        "    return roc_auc\n",
        "\n",
        "\n",
        "def get_pr_auc(y_true, y_pred):\n",
        "    precision, recall, _ = precision_recall_curve(y_true, y_pred, pos_label=1)\n",
        "    pr_auc = auc(recall, precision)\n",
        "    return pr_auc\n",
        "\n",
        "\n",
        "def get_accuracy(y_true, y_pred):\n",
        "    return balanced_accuracy_score(y_true, y_pred)"
      ],
      "execution_count": 52,
      "outputs": []
    },
    {
      "cell_type": "code",
      "metadata": {
        "colab": {
          "base_uri": "https://localhost:8080/"
        },
        "id": "KFPi7CVBHDA7",
        "outputId": "a29f45f8-925a-4206-c713-2ac7d15f2d1d"
      },
      "source": [
        "logit_mi = LogisticRegressionMI(64, mode='mean')\n",
        "criterion = BCELoss()\n",
        "optimizer = LBFGS(logit_mi.parameters(), lr=0.001, max_iter=1000)\n",
        "logit_mi.train()\n",
        "\n",
        "\n",
        "def closure():\n",
        "    optimizer.zero_grad()\n",
        "    output = logit_mi(torch.Tensor(X_train), train_bags)\n",
        "    loss = criterion(output, torch.Tensor(train_labels))\n",
        "    loss.backward()\n",
        "    return loss\n",
        "\n",
        "optimizer.step(closure) \n",
        "\n",
        "logit_mi.eval()\n",
        "with torch.no_grad():\n",
        "  y_pred_logit_mi_test = logit_mi(torch.Tensor(X_test), [bag[0] for bag in test_bags]).detach().numpy()\n",
        "  print(\"ROC AUC: {}\".format(get_roc_auc(test_labels, y_pred_logit_mi_test)))\n",
        "  print(\"PR AUC: {}\".format(get_pr_auc(test_labels, y_pred_logit_mi_test)))\n",
        "  print(\"Accuracy Score: {}\".format(accuracy_score(test_labels, y_pred_logit_mi_test >= 0.5)))\n",
        "  print(\"Balanced Accuracy Score: {}\".format(balanced_accuracy_score(test_labels, y_pred_logit_mi_test >= 0.5)))"
      ],
      "execution_count": 53,
      "outputs": [
        {
          "output_type": "stream",
          "text": [
            "ROC AUC: 0.6464104232509141\n",
            "PR AUC: 0.21172735612810945\n",
            "Accuracy Score: 0.872072072072072\n",
            "Balanced Accuracy Score: 0.5260155233314743\n"
          ],
          "name": "stdout"
        }
      ]
    },
    {
      "cell_type": "code",
      "metadata": {
        "colab": {
          "base_uri": "https://localhost:8080/"
        },
        "id": "9Ixa2BZ4fceN",
        "outputId": "721c06fb-c7a9-4784-cca0-4e23fec11c18"
      },
      "source": [
        "logit_mi = LogisticRegressionMI(64, mode='max')\n",
        "\n",
        "classes, counts = np.unique(train_labels, return_counts=True)\n",
        "class_weights = 1./torch.tensor(counts, dtype=torch.float)\n",
        "class_weights = class_weights / class_weights.sum()\n",
        "weights = torch.zeros(len(train_labels))\n",
        "weights[np.argwhere(train_labels == 0)] = class_weights[0] / counts[0]\n",
        "weights[np.argwhere(train_labels == 1)] = class_weights[1] / counts[1]\n",
        "\n",
        "criterion = BCELoss(weight=weights)\n",
        "\n",
        "logit_mi.train()\n",
        "\n",
        "\n",
        "optimizer = Adam(logit_mi.parameters(), lr=4e-3)\n",
        "n_epochs = 100\n",
        "\n",
        "for i in range(n_epochs):\n",
        "  optimizer.zero_grad()\n",
        "  output = logit_mi(torch.Tensor(X_train), train_bags)\n",
        "  loss = criterion(output, torch.Tensor(train_labels))\n",
        "  loss.backward()\n",
        "  optimizer.step() \n",
        "\n",
        "logit_mi.eval()\n",
        "with torch.no_grad():\n",
        "  y_pred_logit_mi_test = logit_mi(torch.Tensor(X_test), [bag[0] for bag in test_bags]).detach().numpy()\n",
        "  print(\"ROC AUC: {}\".format(get_roc_auc(test_labels, y_pred_logit_mi_test)))\n",
        "  print(\"PR AUC: {}\".format(get_pr_auc(test_labels, y_pred_logit_mi_test)))\n",
        "  print(\"Accuracy Score: {}\".format(accuracy_score(test_labels, y_pred_logit_mi_test >= 0.5)))\n",
        "  print(\"Balanced Accuracy Score: {}\".format(balanced_accuracy_score(test_labels, y_pred_logit_mi_test >= 0.5)))"
      ],
      "execution_count": 54,
      "outputs": [
        {
          "output_type": "stream",
          "text": [
            "ROC AUC: 0.6071683088554254\n",
            "PR AUC: 0.17631849320790624\n",
            "Accuracy Score: 0.21216216216216216\n",
            "Balanced Accuracy Score: 0.5168711656441718\n"
          ],
          "name": "stdout"
        }
      ]
    },
    {
      "cell_type": "code",
      "metadata": {
        "colab": {
          "base_uri": "https://localhost:8080/"
        },
        "id": "uosDU4swHEgs",
        "outputId": "6ee75f4f-3a35-43c8-c50d-74b445e31e87"
      },
      "source": [
        "device = 'cuda'\n",
        "\n",
        "nn_mi = nnMI(nn.Sequential(*[nn.Linear(64, 128), nn.ReLU(),\n",
        "                             nn.Linear(128, 64), nn.ReLU(),\n",
        "                             nn.Linear(64, 1)]), mode='max').to(device)\n",
        "\n",
        "classes, counts = np.unique(train_labels, return_counts=True)\n",
        "class_weights = 1 /torch.tensor(counts, dtype=torch.float)\n",
        "class_weights = class_weights / class_weights.sum()\n",
        "\n",
        "weights = torch.zeros(len(train_labels))\n",
        "weights[np.argwhere(train_labels == 0)] = class_weights[0]\n",
        "weights[np.argwhere(train_labels == 1)] = class_weights[1]\n",
        "\n",
        "criterion = nn.BCEWithLogitsLoss(weight=weights).to(device)\n",
        "\n",
        "optimizer = Adam(nn_mi.parameters(), lr=4e-5)\n",
        "n_epochs = 100\n",
        "\n",
        "for i in range(n_epochs):\n",
        "  nn_mi.train()\n",
        "  optimizer.zero_grad()\n",
        "  output = nn_mi(torch.Tensor(X_train).to(device), train_bags)\n",
        "  loss = criterion(output, torch.Tensor(train_labels).to(device))\n",
        "  loss.backward()\n",
        "  optimizer.step() \n",
        "\n",
        "nn_mi.eval()\n",
        "with torch.no_grad():\n",
        "  y_pred_nn_test = torch.sigmoid(nn_mi(torch.Tensor(X_test).to(device), test_bags)).detach().cpu().numpy().flatten()\n",
        "  print(\"ROC AUC: {}\".format(get_roc_auc(test_labels, y_pred_nn_test)))\n",
        "  print(\"PR AUC: {}\".format(get_pr_auc(test_labels, y_pred_nn_test)))\n",
        "  print(\"Accuracy Score: {}\".format(accuracy_score(test_labels, y_pred_nn_test >= 0.5)))\n",
        "  print(\"Balanced Accuracy Score: {}\".format(balanced_accuracy_score(test_labels, y_pred_nn_test >= 0.5)))\n"
      ],
      "execution_count": 66,
      "outputs": [
        {
          "output_type": "stream",
          "text": [
            "ROC AUC: 0.7967791411042946\n",
            "PR AUC: 0.2781078053837687\n",
            "Accuracy Score: 0.5554054054054054\n",
            "Balanced Accuracy Score: 0.7034648633575014\n"
          ],
          "name": "stdout"
        }
      ]
    },
    {
      "cell_type": "code",
      "metadata": {
        "colab": {
          "base_uri": "https://localhost:8080/"
        },
        "id": "oXDArRCeKLPp",
        "outputId": "878e71dc-9095-42df-e8ca-bbf87794d689"
      },
      "source": [
        "device = 'cuda'\n",
        "\n",
        "nn_mi = nnMIMax(nn.Sequential(*[nn.Linear(64, 128), nn.ReLU(),\n",
        "                               nn.Linear(128, 64), nn.ReLU()]),\n",
        "                nn.Sequential(*[nn.Linear(64, 128), nn.ReLU(), \n",
        "                                nn.Linear(128, 64), nn.ReLU(),\n",
        "                                nn.Linear(64, 1)]), mode='max').to(device)\n",
        "\n",
        "classes, counts = np.unique(train_labels, return_counts=True)\n",
        "class_weights = 1./torch.tensor(counts, dtype=torch.float)\n",
        "class_weights = class_weights / class_weights.sum()\n",
        "\n",
        "weights = torch.zeros(len(train_labels))\n",
        "weights[np.argwhere(train_labels == 0)] = class_weights[0]\n",
        "weights[np.argwhere(train_labels == 1)] = class_weights[1]\n",
        "\n",
        "criterion = nn.BCEWithLogitsLoss(weight=weights).to(device)\n",
        "\n",
        "optimizer = Adam(nn_mi.parameters(), lr=4e-3)\n",
        "n_epochs = 100\n",
        "\n",
        "for i in range(n_epochs):\n",
        "  nn_mi.train()\n",
        "  optimizer.zero_grad()\n",
        "  output = nn_mi(torch.Tensor(X_train).to(device), train_bags)\n",
        "  loss = criterion(output.flatten(), torch.Tensor(train_labels).to(device))\n",
        "  loss.backward()\n",
        "  optimizer.step() \n",
        "\n",
        "nn_mi.eval()\n",
        "with torch.no_grad():\n",
        "  y_pred_nn_test = torch.sigmoid(nn_mi(torch.Tensor(X_test).to(device), test_bags)).detach().cpu().numpy().flatten()\n",
        "  print(\"ROC AUC: {}\".format(get_roc_auc(test_labels, y_pred_nn_test)))\n",
        "  print(\"PR AUC: {}\".format(get_pr_auc(test_labels, y_pred_nn_test)))\n",
        "  print(\"Accuracy Score: {}\".format(accuracy_score(test_labels, y_pred_nn_test >= 0.5)))\n",
        "  print(\"Balanced Accuracy Score: {}\".format(balanced_accuracy_score(test_labels, y_pred_nn_test >= 0.5)))\n"
      ],
      "execution_count": 68,
      "outputs": [
        {
          "output_type": "stream",
          "text": [
            "ROC AUC: 0.9331350312945405\n",
            "PR AUC: 0.7001917118692033\n",
            "Accuracy Score: 0.913963963963964\n",
            "Balanced Accuracy Score: 0.8561535601412902\n"
          ],
          "name": "stdout"
        }
      ]
    },
    {
      "cell_type": "code",
      "metadata": {
        "colab": {
          "base_uri": "https://localhost:8080/"
        },
        "id": "kmv30f_4Fen4",
        "outputId": "46095ff9-9877-4109-b1cc-8155bc37d026"
      },
      "source": [
        "nn_mi.eval()\n",
        "with torch.no_grad():\n",
        "  y_pred_nn_test = torch.sigmoid(nn_mi(torch.Tensor(X_test).to(device), test_bags)).detach().cpu().numpy().flatten()\n",
        "  print(\"ROC AUC: {}\".format(get_roc_auc(test_labels, y_pred_nn_test)))\n",
        "  print(\"PR AUC: {}\".format(get_pr_auc(test_labels, y_pred_nn_test)))\n",
        "  print(\"Accuracy Score: {}\".format(accuracy_score(test_labels, y_pred_nn_test >= 0.5)))\n",
        "  print(\"Balanced Accuracy Score: {}\".format(balanced_accuracy_score(test_labels, y_pred_nn_test >= 0.5)))"
      ],
      "execution_count": 60,
      "outputs": [
        {
          "output_type": "stream",
          "text": [
            "ROC AUC: 0.9399090599243972\n",
            "PR AUC: 0.7245673155968184\n",
            "Accuracy Score: 0.9031531531531531\n",
            "Balanced Accuracy Score: 0.8680400632087749\n"
          ],
          "name": "stdout"
        }
      ]
    },
    {
      "cell_type": "code",
      "metadata": {
        "id": "BneE9qRAKJx7"
      },
      "source": [
        "np.save(\"train_labels.npy\", train_labels)\n",
        "np.save(\"train_bags.npy\", train_bags)\n",
        "\n",
        "np.save(\"test_labels.npy\", test_labels)\n",
        "np.save(\"test_bags.npy\", test_bags)\n"
      ],
      "execution_count": 69,
      "outputs": []
    },
    {
      "cell_type": "code",
      "metadata": {
        "colab": {
          "base_uri": "https://localhost:8080/",
          "height": 17
        },
        "id": "fWDIjK_QKK3g",
        "outputId": "03dce1ac-5f34-4dc7-a482-ab92ddd8ebd7"
      },
      "source": [
        "from google.colab import files\n",
        "\n",
        "files.download('train_bags.npy') \n",
        "files.download('train_labels.npy') \n",
        "\n",
        "files.download('test_bags.npy') \n",
        "files.download('test_labels.npy') "
      ],
      "execution_count": 70,
      "outputs": [
        {
          "output_type": "display_data",
          "data": {
            "application/javascript": [
              "\n",
              "    async function download(id, filename, size) {\n",
              "      if (!google.colab.kernel.accessAllowed) {\n",
              "        return;\n",
              "      }\n",
              "      const div = document.createElement('div');\n",
              "      const label = document.createElement('label');\n",
              "      label.textContent = `Downloading \"${filename}\": `;\n",
              "      div.appendChild(label);\n",
              "      const progress = document.createElement('progress');\n",
              "      progress.max = size;\n",
              "      div.appendChild(progress);\n",
              "      document.body.appendChild(div);\n",
              "\n",
              "      const buffers = [];\n",
              "      let downloaded = 0;\n",
              "\n",
              "      const channel = await google.colab.kernel.comms.open(id);\n",
              "      // Send a message to notify the kernel that we're ready.\n",
              "      channel.send({})\n",
              "\n",
              "      for await (const message of channel.messages) {\n",
              "        // Send a message to notify the kernel that we're ready.\n",
              "        channel.send({})\n",
              "        if (message.buffers) {\n",
              "          for (const buffer of message.buffers) {\n",
              "            buffers.push(buffer);\n",
              "            downloaded += buffer.byteLength;\n",
              "            progress.value = downloaded;\n",
              "          }\n",
              "        }\n",
              "      }\n",
              "      const blob = new Blob(buffers, {type: 'application/binary'});\n",
              "      const a = document.createElement('a');\n",
              "      a.href = window.URL.createObjectURL(blob);\n",
              "      a.download = filename;\n",
              "      div.appendChild(a);\n",
              "      a.click();\n",
              "      div.remove();\n",
              "    }\n",
              "  "
            ],
            "text/plain": [
              "<IPython.core.display.Javascript object>"
            ]
          },
          "metadata": {
            "tags": []
          }
        },
        {
          "output_type": "display_data",
          "data": {
            "application/javascript": [
              "download(\"download_f88d5dab-560e-4e0d-bf8f-acae6f42bcc4\", \"train_bags.npy\", 397770)"
            ],
            "text/plain": [
              "<IPython.core.display.Javascript object>"
            ]
          },
          "metadata": {
            "tags": []
          }
        },
        {
          "output_type": "display_data",
          "data": {
            "application/javascript": [
              "\n",
              "    async function download(id, filename, size) {\n",
              "      if (!google.colab.kernel.accessAllowed) {\n",
              "        return;\n",
              "      }\n",
              "      const div = document.createElement('div');\n",
              "      const label = document.createElement('label');\n",
              "      label.textContent = `Downloading \"${filename}\": `;\n",
              "      div.appendChild(label);\n",
              "      const progress = document.createElement('progress');\n",
              "      progress.max = size;\n",
              "      div.appendChild(progress);\n",
              "      document.body.appendChild(div);\n",
              "\n",
              "      const buffers = [];\n",
              "      let downloaded = 0;\n",
              "\n",
              "      const channel = await google.colab.kernel.comms.open(id);\n",
              "      // Send a message to notify the kernel that we're ready.\n",
              "      channel.send({})\n",
              "\n",
              "      for await (const message of channel.messages) {\n",
              "        // Send a message to notify the kernel that we're ready.\n",
              "        channel.send({})\n",
              "        if (message.buffers) {\n",
              "          for (const buffer of message.buffers) {\n",
              "            buffers.push(buffer);\n",
              "            downloaded += buffer.byteLength;\n",
              "            progress.value = downloaded;\n",
              "          }\n",
              "        }\n",
              "      }\n",
              "      const blob = new Blob(buffers, {type: 'application/binary'});\n",
              "      const a = document.createElement('a');\n",
              "      a.href = window.URL.createObjectURL(blob);\n",
              "      a.download = filename;\n",
              "      div.appendChild(a);\n",
              "      a.click();\n",
              "      div.remove();\n",
              "    }\n",
              "  "
            ],
            "text/plain": [
              "<IPython.core.display.Javascript object>"
            ]
          },
          "metadata": {
            "tags": []
          }
        },
        {
          "output_type": "display_data",
          "data": {
            "application/javascript": [
              "download(\"download_98839800-4677-4899-960a-314b5ff5eb7a\", \"train_labels.npy\", 35408)"
            ],
            "text/plain": [
              "<IPython.core.display.Javascript object>"
            ]
          },
          "metadata": {
            "tags": []
          }
        },
        {
          "output_type": "display_data",
          "data": {
            "application/javascript": [
              "\n",
              "    async function download(id, filename, size) {\n",
              "      if (!google.colab.kernel.accessAllowed) {\n",
              "        return;\n",
              "      }\n",
              "      const div = document.createElement('div');\n",
              "      const label = document.createElement('label');\n",
              "      label.textContent = `Downloading \"${filename}\": `;\n",
              "      div.appendChild(label);\n",
              "      const progress = document.createElement('progress');\n",
              "      progress.max = size;\n",
              "      div.appendChild(progress);\n",
              "      document.body.appendChild(div);\n",
              "\n",
              "      const buffers = [];\n",
              "      let downloaded = 0;\n",
              "\n",
              "      const channel = await google.colab.kernel.comms.open(id);\n",
              "      // Send a message to notify the kernel that we're ready.\n",
              "      channel.send({})\n",
              "\n",
              "      for await (const message of channel.messages) {\n",
              "        // Send a message to notify the kernel that we're ready.\n",
              "        channel.send({})\n",
              "        if (message.buffers) {\n",
              "          for (const buffer of message.buffers) {\n",
              "            buffers.push(buffer);\n",
              "            downloaded += buffer.byteLength;\n",
              "            progress.value = downloaded;\n",
              "          }\n",
              "        }\n",
              "      }\n",
              "      const blob = new Blob(buffers, {type: 'application/binary'});\n",
              "      const a = document.createElement('a');\n",
              "      a.href = window.URL.createObjectURL(blob);\n",
              "      a.download = filename;\n",
              "      div.appendChild(a);\n",
              "      a.click();\n",
              "      div.remove();\n",
              "    }\n",
              "  "
            ],
            "text/plain": [
              "<IPython.core.display.Javascript object>"
            ]
          },
          "metadata": {
            "tags": []
          }
        },
        {
          "output_type": "display_data",
          "data": {
            "application/javascript": [
              "download(\"download_e044507f-3bec-4696-b2dd-5ae7bd807a76\", \"test_bags.npy\", 199506)"
            ],
            "text/plain": [
              "<IPython.core.display.Javascript object>"
            ]
          },
          "metadata": {
            "tags": []
          }
        },
        {
          "output_type": "display_data",
          "data": {
            "application/javascript": [
              "\n",
              "    async function download(id, filename, size) {\n",
              "      if (!google.colab.kernel.accessAllowed) {\n",
              "        return;\n",
              "      }\n",
              "      const div = document.createElement('div');\n",
              "      const label = document.createElement('label');\n",
              "      label.textContent = `Downloading \"${filename}\": `;\n",
              "      div.appendChild(label);\n",
              "      const progress = document.createElement('progress');\n",
              "      progress.max = size;\n",
              "      div.appendChild(progress);\n",
              "      document.body.appendChild(div);\n",
              "\n",
              "      const buffers = [];\n",
              "      let downloaded = 0;\n",
              "\n",
              "      const channel = await google.colab.kernel.comms.open(id);\n",
              "      // Send a message to notify the kernel that we're ready.\n",
              "      channel.send({})\n",
              "\n",
              "      for await (const message of channel.messages) {\n",
              "        // Send a message to notify the kernel that we're ready.\n",
              "        channel.send({})\n",
              "        if (message.buffers) {\n",
              "          for (const buffer of message.buffers) {\n",
              "            buffers.push(buffer);\n",
              "            downloaded += buffer.byteLength;\n",
              "            progress.value = downloaded;\n",
              "          }\n",
              "        }\n",
              "      }\n",
              "      const blob = new Blob(buffers, {type: 'application/binary'});\n",
              "      const a = document.createElement('a');\n",
              "      a.href = window.URL.createObjectURL(blob);\n",
              "      a.download = filename;\n",
              "      div.appendChild(a);\n",
              "      a.click();\n",
              "      div.remove();\n",
              "    }\n",
              "  "
            ],
            "text/plain": [
              "<IPython.core.display.Javascript object>"
            ]
          },
          "metadata": {
            "tags": []
          }
        },
        {
          "output_type": "display_data",
          "data": {
            "application/javascript": [
              "download(\"download_883c1424-33d1-4f2f-884e-7e20bb8126e6\", \"test_labels.npy\", 17888)"
            ],
            "text/plain": [
              "<IPython.core.display.Javascript object>"
            ]
          },
          "metadata": {
            "tags": []
          }
        }
      ]
    }
  ]
}