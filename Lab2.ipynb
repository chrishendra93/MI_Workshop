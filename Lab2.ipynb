{
  "nbformat": 4,
  "nbformat_minor": 0,
  "metadata": {
    "colab": {
      "name": "Lab2.ipynb",
      "provenance": [],
      "collapsed_sections": []
    },
    "kernelspec": {
      "name": "python3",
      "display_name": "Python 3"
    },
    "language_info": {
      "name": "python"
    },
    "widgets": {
      "application/vnd.jupyter.widget-state+json": {
        "5d7469581daf4b029e26cb9bcc51cc4b": {
          "model_module": "@jupyter-widgets/controls",
          "model_name": "HBoxModel",
          "state": {
            "_view_name": "HBoxView",
            "_dom_classes": [],
            "_model_name": "HBoxModel",
            "_view_module": "@jupyter-widgets/controls",
            "_model_module_version": "1.5.0",
            "_view_count": null,
            "_view_module_version": "1.5.0",
            "box_style": "",
            "layout": "IPY_MODEL_3db3cb42c30d400ba4fa6366848b2281",
            "_model_module": "@jupyter-widgets/controls",
            "children": [
              "IPY_MODEL_fcfbca7f5114485a87ddb01575959adf",
              "IPY_MODEL_c2d31317deee4bce935164723f73446d"
            ]
          }
        },
        "3db3cb42c30d400ba4fa6366848b2281": {
          "model_module": "@jupyter-widgets/base",
          "model_name": "LayoutModel",
          "state": {
            "_view_name": "LayoutView",
            "grid_template_rows": null,
            "right": null,
            "justify_content": null,
            "_view_module": "@jupyter-widgets/base",
            "overflow": null,
            "_model_module_version": "1.2.0",
            "_view_count": null,
            "flex_flow": null,
            "width": null,
            "min_width": null,
            "border": null,
            "align_items": null,
            "bottom": null,
            "_model_module": "@jupyter-widgets/base",
            "top": null,
            "grid_column": null,
            "overflow_y": null,
            "overflow_x": null,
            "grid_auto_flow": null,
            "grid_area": null,
            "grid_template_columns": null,
            "flex": null,
            "_model_name": "LayoutModel",
            "justify_items": null,
            "grid_row": null,
            "max_height": null,
            "align_content": null,
            "visibility": null,
            "align_self": null,
            "height": null,
            "min_height": null,
            "padding": null,
            "grid_auto_rows": null,
            "grid_gap": null,
            "max_width": null,
            "order": null,
            "_view_module_version": "1.2.0",
            "grid_template_areas": null,
            "object_position": null,
            "object_fit": null,
            "grid_auto_columns": null,
            "margin": null,
            "display": null,
            "left": null
          }
        },
        "fcfbca7f5114485a87ddb01575959adf": {
          "model_module": "@jupyter-widgets/controls",
          "model_name": "FloatProgressModel",
          "state": {
            "_view_name": "ProgressView",
            "style": "IPY_MODEL_f76dbc388476415498a0b706586629fc",
            "_dom_classes": [],
            "description": "100%",
            "_model_name": "FloatProgressModel",
            "bar_style": "success",
            "max": 2221,
            "_view_module": "@jupyter-widgets/controls",
            "_model_module_version": "1.5.0",
            "value": 2221,
            "_view_count": null,
            "_view_module_version": "1.5.0",
            "orientation": "horizontal",
            "min": 0,
            "description_tooltip": null,
            "_model_module": "@jupyter-widgets/controls",
            "layout": "IPY_MODEL_a85d41c423b949cb870c10a84e168e2a"
          }
        },
        "c2d31317deee4bce935164723f73446d": {
          "model_module": "@jupyter-widgets/controls",
          "model_name": "HTMLModel",
          "state": {
            "_view_name": "HTMLView",
            "style": "IPY_MODEL_94ec7150d01947d1ab0d43c16d18e344",
            "_dom_classes": [],
            "description": "",
            "_model_name": "HTMLModel",
            "placeholder": "​",
            "_view_module": "@jupyter-widgets/controls",
            "_model_module_version": "1.5.0",
            "value": " 2221/2221 [04:58&lt;00:00,  7.44it/s]",
            "_view_count": null,
            "_view_module_version": "1.5.0",
            "description_tooltip": null,
            "_model_module": "@jupyter-widgets/controls",
            "layout": "IPY_MODEL_06455453d17743dfb4b6c495a85e36fb"
          }
        },
        "f76dbc388476415498a0b706586629fc": {
          "model_module": "@jupyter-widgets/controls",
          "model_name": "ProgressStyleModel",
          "state": {
            "_view_name": "StyleView",
            "_model_name": "ProgressStyleModel",
            "description_width": "initial",
            "_view_module": "@jupyter-widgets/base",
            "_model_module_version": "1.5.0",
            "_view_count": null,
            "_view_module_version": "1.2.0",
            "bar_color": null,
            "_model_module": "@jupyter-widgets/controls"
          }
        },
        "a85d41c423b949cb870c10a84e168e2a": {
          "model_module": "@jupyter-widgets/base",
          "model_name": "LayoutModel",
          "state": {
            "_view_name": "LayoutView",
            "grid_template_rows": null,
            "right": null,
            "justify_content": null,
            "_view_module": "@jupyter-widgets/base",
            "overflow": null,
            "_model_module_version": "1.2.0",
            "_view_count": null,
            "flex_flow": null,
            "width": null,
            "min_width": null,
            "border": null,
            "align_items": null,
            "bottom": null,
            "_model_module": "@jupyter-widgets/base",
            "top": null,
            "grid_column": null,
            "overflow_y": null,
            "overflow_x": null,
            "grid_auto_flow": null,
            "grid_area": null,
            "grid_template_columns": null,
            "flex": null,
            "_model_name": "LayoutModel",
            "justify_items": null,
            "grid_row": null,
            "max_height": null,
            "align_content": null,
            "visibility": null,
            "align_self": null,
            "height": null,
            "min_height": null,
            "padding": null,
            "grid_auto_rows": null,
            "grid_gap": null,
            "max_width": null,
            "order": null,
            "_view_module_version": "1.2.0",
            "grid_template_areas": null,
            "object_position": null,
            "object_fit": null,
            "grid_auto_columns": null,
            "margin": null,
            "display": null,
            "left": null
          }
        },
        "94ec7150d01947d1ab0d43c16d18e344": {
          "model_module": "@jupyter-widgets/controls",
          "model_name": "DescriptionStyleModel",
          "state": {
            "_view_name": "StyleView",
            "_model_name": "DescriptionStyleModel",
            "description_width": "",
            "_view_module": "@jupyter-widgets/base",
            "_model_module_version": "1.5.0",
            "_view_count": null,
            "_view_module_version": "1.2.0",
            "_model_module": "@jupyter-widgets/controls"
          }
        },
        "06455453d17743dfb4b6c495a85e36fb": {
          "model_module": "@jupyter-widgets/base",
          "model_name": "LayoutModel",
          "state": {
            "_view_name": "LayoutView",
            "grid_template_rows": null,
            "right": null,
            "justify_content": null,
            "_view_module": "@jupyter-widgets/base",
            "overflow": null,
            "_model_module_version": "1.2.0",
            "_view_count": null,
            "flex_flow": null,
            "width": null,
            "min_width": null,
            "border": null,
            "align_items": null,
            "bottom": null,
            "_model_module": "@jupyter-widgets/base",
            "top": null,
            "grid_column": null,
            "overflow_y": null,
            "overflow_x": null,
            "grid_auto_flow": null,
            "grid_area": null,
            "grid_template_columns": null,
            "flex": null,
            "_model_name": "LayoutModel",
            "justify_items": null,
            "grid_row": null,
            "max_height": null,
            "align_content": null,
            "visibility": null,
            "align_self": null,
            "height": null,
            "min_height": null,
            "padding": null,
            "grid_auto_rows": null,
            "grid_gap": null,
            "max_width": null,
            "order": null,
            "_view_module_version": "1.2.0",
            "grid_template_areas": null,
            "object_position": null,
            "object_fit": null,
            "grid_auto_columns": null,
            "margin": null,
            "display": null,
            "left": null
          }
        },
        "48a86e6cafbe49918c54722bdf9172a0": {
          "model_module": "@jupyter-widgets/controls",
          "model_name": "HBoxModel",
          "state": {
            "_view_name": "HBoxView",
            "_dom_classes": [],
            "_model_name": "HBoxModel",
            "_view_module": "@jupyter-widgets/controls",
            "_model_module_version": "1.5.0",
            "_view_count": null,
            "_view_module_version": "1.5.0",
            "box_style": "",
            "layout": "IPY_MODEL_eb7a34335194470ea57d778b55379a97",
            "_model_module": "@jupyter-widgets/controls",
            "children": [
              "IPY_MODEL_3e1a671bb9774757b189fff3fcd2e6a4",
              "IPY_MODEL_fb25a3a5496844759d7bf785c36f5c67"
            ]
          }
        },
        "eb7a34335194470ea57d778b55379a97": {
          "model_module": "@jupyter-widgets/base",
          "model_name": "LayoutModel",
          "state": {
            "_view_name": "LayoutView",
            "grid_template_rows": null,
            "right": null,
            "justify_content": null,
            "_view_module": "@jupyter-widgets/base",
            "overflow": null,
            "_model_module_version": "1.2.0",
            "_view_count": null,
            "flex_flow": null,
            "width": null,
            "min_width": null,
            "border": null,
            "align_items": null,
            "bottom": null,
            "_model_module": "@jupyter-widgets/base",
            "top": null,
            "grid_column": null,
            "overflow_y": null,
            "overflow_x": null,
            "grid_auto_flow": null,
            "grid_area": null,
            "grid_template_columns": null,
            "flex": null,
            "_model_name": "LayoutModel",
            "justify_items": null,
            "grid_row": null,
            "max_height": null,
            "align_content": null,
            "visibility": null,
            "align_self": null,
            "height": null,
            "min_height": null,
            "padding": null,
            "grid_auto_rows": null,
            "grid_gap": null,
            "max_width": null,
            "order": null,
            "_view_module_version": "1.2.0",
            "grid_template_areas": null,
            "object_position": null,
            "object_fit": null,
            "grid_auto_columns": null,
            "margin": null,
            "display": null,
            "left": null
          }
        },
        "3e1a671bb9774757b189fff3fcd2e6a4": {
          "model_module": "@jupyter-widgets/controls",
          "model_name": "FloatProgressModel",
          "state": {
            "_view_name": "ProgressView",
            "style": "IPY_MODEL_73371db1ae5e4ac1af6f709d8ce9d377",
            "_dom_classes": [],
            "description": "100%",
            "_model_name": "FloatProgressModel",
            "bar_style": "success",
            "max": 2221,
            "_view_module": "@jupyter-widgets/controls",
            "_model_module_version": "1.5.0",
            "value": 2221,
            "_view_count": null,
            "_view_module_version": "1.5.0",
            "orientation": "horizontal",
            "min": 0,
            "description_tooltip": null,
            "_model_module": "@jupyter-widgets/controls",
            "layout": "IPY_MODEL_e572aaa7ffae43bd881e6e90dac7ddb5"
          }
        },
        "fb25a3a5496844759d7bf785c36f5c67": {
          "model_module": "@jupyter-widgets/controls",
          "model_name": "HTMLModel",
          "state": {
            "_view_name": "HTMLView",
            "style": "IPY_MODEL_f484964eb8cb4791984ca573664a3f07",
            "_dom_classes": [],
            "description": "",
            "_model_name": "HTMLModel",
            "placeholder": "​",
            "_view_module": "@jupyter-widgets/controls",
            "_model_module_version": "1.5.0",
            "value": " 2221/2221 [13:28&lt;00:00,  2.75it/s]",
            "_view_count": null,
            "_view_module_version": "1.5.0",
            "description_tooltip": null,
            "_model_module": "@jupyter-widgets/controls",
            "layout": "IPY_MODEL_75e86408ca8446f783f4d052b5cd968a"
          }
        },
        "73371db1ae5e4ac1af6f709d8ce9d377": {
          "model_module": "@jupyter-widgets/controls",
          "model_name": "ProgressStyleModel",
          "state": {
            "_view_name": "StyleView",
            "_model_name": "ProgressStyleModel",
            "description_width": "initial",
            "_view_module": "@jupyter-widgets/base",
            "_model_module_version": "1.5.0",
            "_view_count": null,
            "_view_module_version": "1.2.0",
            "bar_color": null,
            "_model_module": "@jupyter-widgets/controls"
          }
        },
        "e572aaa7ffae43bd881e6e90dac7ddb5": {
          "model_module": "@jupyter-widgets/base",
          "model_name": "LayoutModel",
          "state": {
            "_view_name": "LayoutView",
            "grid_template_rows": null,
            "right": null,
            "justify_content": null,
            "_view_module": "@jupyter-widgets/base",
            "overflow": null,
            "_model_module_version": "1.2.0",
            "_view_count": null,
            "flex_flow": null,
            "width": null,
            "min_width": null,
            "border": null,
            "align_items": null,
            "bottom": null,
            "_model_module": "@jupyter-widgets/base",
            "top": null,
            "grid_column": null,
            "overflow_y": null,
            "overflow_x": null,
            "grid_auto_flow": null,
            "grid_area": null,
            "grid_template_columns": null,
            "flex": null,
            "_model_name": "LayoutModel",
            "justify_items": null,
            "grid_row": null,
            "max_height": null,
            "align_content": null,
            "visibility": null,
            "align_self": null,
            "height": null,
            "min_height": null,
            "padding": null,
            "grid_auto_rows": null,
            "grid_gap": null,
            "max_width": null,
            "order": null,
            "_view_module_version": "1.2.0",
            "grid_template_areas": null,
            "object_position": null,
            "object_fit": null,
            "grid_auto_columns": null,
            "margin": null,
            "display": null,
            "left": null
          }
        },
        "f484964eb8cb4791984ca573664a3f07": {
          "model_module": "@jupyter-widgets/controls",
          "model_name": "DescriptionStyleModel",
          "state": {
            "_view_name": "StyleView",
            "_model_name": "DescriptionStyleModel",
            "description_width": "",
            "_view_module": "@jupyter-widgets/base",
            "_model_module_version": "1.5.0",
            "_view_count": null,
            "_view_module_version": "1.2.0",
            "_model_module": "@jupyter-widgets/controls"
          }
        },
        "75e86408ca8446f783f4d052b5cd968a": {
          "model_module": "@jupyter-widgets/base",
          "model_name": "LayoutModel",
          "state": {
            "_view_name": "LayoutView",
            "grid_template_rows": null,
            "right": null,
            "justify_content": null,
            "_view_module": "@jupyter-widgets/base",
            "overflow": null,
            "_model_module_version": "1.2.0",
            "_view_count": null,
            "flex_flow": null,
            "width": null,
            "min_width": null,
            "border": null,
            "align_items": null,
            "bottom": null,
            "_model_module": "@jupyter-widgets/base",
            "top": null,
            "grid_column": null,
            "overflow_y": null,
            "overflow_x": null,
            "grid_auto_flow": null,
            "grid_area": null,
            "grid_template_columns": null,
            "flex": null,
            "_model_name": "LayoutModel",
            "justify_items": null,
            "grid_row": null,
            "max_height": null,
            "align_content": null,
            "visibility": null,
            "align_self": null,
            "height": null,
            "min_height": null,
            "padding": null,
            "grid_auto_rows": null,
            "grid_gap": null,
            "max_width": null,
            "order": null,
            "_view_module_version": "1.2.0",
            "grid_template_areas": null,
            "object_position": null,
            "object_fit": null,
            "grid_auto_columns": null,
            "margin": null,
            "display": null,
            "left": null
          }
        },
        "7c4dd1507b2341c79b64bfb414000550": {
          "model_module": "@jupyter-widgets/controls",
          "model_name": "HBoxModel",
          "state": {
            "_view_name": "HBoxView",
            "_dom_classes": [],
            "_model_name": "HBoxModel",
            "_view_module": "@jupyter-widgets/controls",
            "_model_module_version": "1.5.0",
            "_view_count": null,
            "_view_module_version": "1.5.0",
            "box_style": "",
            "layout": "IPY_MODEL_574d6780939f48e28c1d1938faf68449",
            "_model_module": "@jupyter-widgets/controls",
            "children": [
              "IPY_MODEL_7ff3a93bed774546bbb7d6b958ed8cda",
              "IPY_MODEL_67567d00e8aa4d1892afa23ba0c2542b"
            ]
          }
        },
        "574d6780939f48e28c1d1938faf68449": {
          "model_module": "@jupyter-widgets/base",
          "model_name": "LayoutModel",
          "state": {
            "_view_name": "LayoutView",
            "grid_template_rows": null,
            "right": null,
            "justify_content": null,
            "_view_module": "@jupyter-widgets/base",
            "overflow": null,
            "_model_module_version": "1.2.0",
            "_view_count": null,
            "flex_flow": null,
            "width": null,
            "min_width": null,
            "border": null,
            "align_items": null,
            "bottom": null,
            "_model_module": "@jupyter-widgets/base",
            "top": null,
            "grid_column": null,
            "overflow_y": null,
            "overflow_x": null,
            "grid_auto_flow": null,
            "grid_area": null,
            "grid_template_columns": null,
            "flex": null,
            "_model_name": "LayoutModel",
            "justify_items": null,
            "grid_row": null,
            "max_height": null,
            "align_content": null,
            "visibility": null,
            "align_self": null,
            "height": null,
            "min_height": null,
            "padding": null,
            "grid_auto_rows": null,
            "grid_gap": null,
            "max_width": null,
            "order": null,
            "_view_module_version": "1.2.0",
            "grid_template_areas": null,
            "object_position": null,
            "object_fit": null,
            "grid_auto_columns": null,
            "margin": null,
            "display": null,
            "left": null
          }
        },
        "7ff3a93bed774546bbb7d6b958ed8cda": {
          "model_module": "@jupyter-widgets/controls",
          "model_name": "FloatProgressModel",
          "state": {
            "_view_name": "ProgressView",
            "style": "IPY_MODEL_d723fdcf9ea649259bd3232db48f47a3",
            "_dom_classes": [],
            "description": "100%",
            "_model_name": "FloatProgressModel",
            "bar_style": "success",
            "max": 2221,
            "_view_module": "@jupyter-widgets/controls",
            "_model_module_version": "1.5.0",
            "value": 2221,
            "_view_count": null,
            "_view_module_version": "1.5.0",
            "orientation": "horizontal",
            "min": 0,
            "description_tooltip": null,
            "_model_module": "@jupyter-widgets/controls",
            "layout": "IPY_MODEL_2192549544ab43ffafe14a0ba2500de2"
          }
        },
        "67567d00e8aa4d1892afa23ba0c2542b": {
          "model_module": "@jupyter-widgets/controls",
          "model_name": "HTMLModel",
          "state": {
            "_view_name": "HTMLView",
            "style": "IPY_MODEL_b51a0c3cbbdd4b73921b72ca7cba6b01",
            "_dom_classes": [],
            "description": "",
            "_model_name": "HTMLModel",
            "placeholder": "​",
            "_view_module": "@jupyter-widgets/controls",
            "_model_module_version": "1.5.0",
            "value": " 2221/2221 [04:54&lt;00:00,  7.54it/s]",
            "_view_count": null,
            "_view_module_version": "1.5.0",
            "description_tooltip": null,
            "_model_module": "@jupyter-widgets/controls",
            "layout": "IPY_MODEL_99189c17b3ac4a3fa465e59bf7325fa8"
          }
        },
        "d723fdcf9ea649259bd3232db48f47a3": {
          "model_module": "@jupyter-widgets/controls",
          "model_name": "ProgressStyleModel",
          "state": {
            "_view_name": "StyleView",
            "_model_name": "ProgressStyleModel",
            "description_width": "initial",
            "_view_module": "@jupyter-widgets/base",
            "_model_module_version": "1.5.0",
            "_view_count": null,
            "_view_module_version": "1.2.0",
            "bar_color": null,
            "_model_module": "@jupyter-widgets/controls"
          }
        },
        "2192549544ab43ffafe14a0ba2500de2": {
          "model_module": "@jupyter-widgets/base",
          "model_name": "LayoutModel",
          "state": {
            "_view_name": "LayoutView",
            "grid_template_rows": null,
            "right": null,
            "justify_content": null,
            "_view_module": "@jupyter-widgets/base",
            "overflow": null,
            "_model_module_version": "1.2.0",
            "_view_count": null,
            "flex_flow": null,
            "width": null,
            "min_width": null,
            "border": null,
            "align_items": null,
            "bottom": null,
            "_model_module": "@jupyter-widgets/base",
            "top": null,
            "grid_column": null,
            "overflow_y": null,
            "overflow_x": null,
            "grid_auto_flow": null,
            "grid_area": null,
            "grid_template_columns": null,
            "flex": null,
            "_model_name": "LayoutModel",
            "justify_items": null,
            "grid_row": null,
            "max_height": null,
            "align_content": null,
            "visibility": null,
            "align_self": null,
            "height": null,
            "min_height": null,
            "padding": null,
            "grid_auto_rows": null,
            "grid_gap": null,
            "max_width": null,
            "order": null,
            "_view_module_version": "1.2.0",
            "grid_template_areas": null,
            "object_position": null,
            "object_fit": null,
            "grid_auto_columns": null,
            "margin": null,
            "display": null,
            "left": null
          }
        },
        "b51a0c3cbbdd4b73921b72ca7cba6b01": {
          "model_module": "@jupyter-widgets/controls",
          "model_name": "DescriptionStyleModel",
          "state": {
            "_view_name": "StyleView",
            "_model_name": "DescriptionStyleModel",
            "description_width": "",
            "_view_module": "@jupyter-widgets/base",
            "_model_module_version": "1.5.0",
            "_view_count": null,
            "_view_module_version": "1.2.0",
            "_model_module": "@jupyter-widgets/controls"
          }
        },
        "99189c17b3ac4a3fa465e59bf7325fa8": {
          "model_module": "@jupyter-widgets/base",
          "model_name": "LayoutModel",
          "state": {
            "_view_name": "LayoutView",
            "grid_template_rows": null,
            "right": null,
            "justify_content": null,
            "_view_module": "@jupyter-widgets/base",
            "overflow": null,
            "_model_module_version": "1.2.0",
            "_view_count": null,
            "flex_flow": null,
            "width": null,
            "min_width": null,
            "border": null,
            "align_items": null,
            "bottom": null,
            "_model_module": "@jupyter-widgets/base",
            "top": null,
            "grid_column": null,
            "overflow_y": null,
            "overflow_x": null,
            "grid_auto_flow": null,
            "grid_area": null,
            "grid_template_columns": null,
            "flex": null,
            "_model_name": "LayoutModel",
            "justify_items": null,
            "grid_row": null,
            "max_height": null,
            "align_content": null,
            "visibility": null,
            "align_self": null,
            "height": null,
            "min_height": null,
            "padding": null,
            "grid_auto_rows": null,
            "grid_gap": null,
            "max_width": null,
            "order": null,
            "_view_module_version": "1.2.0",
            "grid_template_areas": null,
            "object_position": null,
            "object_fit": null,
            "grid_auto_columns": null,
            "margin": null,
            "display": null,
            "left": null
          }
        }
      }
    }
  },
  "cells": [
    {
      "cell_type": "code",
      "metadata": {
        "id": "GI1cOvg5s0iK",
        "outputId": "b64c5c0c-e58b-4b6e-c605-68f4963cc60b",
        "colab": {
          "base_uri": "https://localhost:8080/"
        }
      },
      "source": [
        "!git clone https://github.com/chrishendra93/MI_Workshop\n"
      ],
      "execution_count": 1,
      "outputs": [
        {
          "output_type": "stream",
          "text": [
            "Cloning into 'MI_Workshop'...\n",
            "remote: Enumerating objects: 79, done.\u001b[K\n",
            "remote: Counting objects: 100% (79/79), done.\u001b[K\n",
            "remote: Compressing objects: 100% (59/59), done.\u001b[K\n",
            "remote: Total 79 (delta 33), reused 53 (delta 19), pack-reused 0\u001b[K\n",
            "Unpacking objects: 100% (79/79), done.\n"
          ],
          "name": "stdout"
        }
      ]
    },
    {
      "cell_type": "code",
      "metadata": {
        "id": "NZsRAmlqxkGA"
      },
      "source": [
        "import os\n",
        "import matplotlib.pyplot as plt\n",
        "import pandas as pd\n",
        "import numpy as np\n",
        "import seaborn as sns\n",
        "import torch\n",
        "from tqdm.notebook import tqdm"
      ],
      "execution_count": 1,
      "outputs": []
    },
    {
      "cell_type": "code",
      "metadata": {
        "id": "FrIKg-8LxnC4",
        "outputId": "d247ef16-25bf-4ab1-cd6b-a44b71a2ec81",
        "colab": {
          "base_uri": "https://localhost:8080/"
        }
      },
      "source": [
        "# Setting random seed so that everything is replicable\n",
        "\n",
        "np.random.seed(0)\n",
        "torch.random.manual_seed(0)"
      ],
      "execution_count": 2,
      "outputs": [
        {
          "output_type": "execute_result",
          "data": {
            "text/plain": [
              "<torch._C.Generator at 0x7f4f517c4410>"
            ]
          },
          "metadata": {
            "tags": []
          },
          "execution_count": 2
        }
      ]
    },
    {
      "cell_type": "code",
      "metadata": {
        "colab": {
          "base_uri": "https://localhost:8080/"
        },
        "id": "dJs8wFoDxosY",
        "outputId": "50500aa7-29c3-484a-ed7b-18e963dca4cd"
      },
      "source": [
        "root_dir = \"/content/MI_Workshop/mnist_clr\"\n",
        "data_dir = \"/content/MI_Workshop/lab_2\"\n",
        "\n",
        "mnist_columns = [\"label\"] + [\"features_{}\".format(i) for i in range(28 ** 2)]\n",
        "mnist_train = pd.read_csv(\"./sample_data/mnist_train_small.csv\", names=mnist_columns)\n",
        "mnist_test = pd.read_csv(\"./sample_data/mnist_test.csv\", names=mnist_columns)\n",
        "mnist_arr_train = mnist_train[[\"features_{}\".format(i) for i in range(28 ** 2)]].values\n",
        "mnist_arr_test = mnist_test[[\"features_{}\".format(i) for i in range(28 ** 2)]].values\n",
        "\n",
        "X_train = np.load(os.path.join(root_dir, \"train_features.npy\"))\n",
        "X_test = np.load(os.path.join(root_dir, \"test_features.npy\"))\n",
        "y_train = np.load(os.path.join(root_dir, \"train_labels.npy\"))\n",
        "y_test = np.load(os.path.join(root_dir, \"test_labels.npy\"))\n",
        "\n",
        "print(np.all(y_train == mnist_train[\"label\"].values))\n",
        "print(np.all(y_test == mnist_test[\"label\"].values))\n",
        "\n",
        "train_bags, train_labels = np.load(os.path.join(data_dir, \"train_bags.npy\"), allow_pickle=True), np.load(os.path.join(data_dir, \"train_labels.npy\"),allow_pickle=True)\n",
        "test_bags, test_labels = np.load(os.path.join(data_dir, \"test_bags.npy\"), allow_pickle=True), np.load(os.path.join(data_dir, \"test_labels.npy\"), allow_pickle=True)\n"
      ],
      "execution_count": 3,
      "outputs": [
        {
          "output_type": "stream",
          "text": [
            "True\n",
            "True\n"
          ],
          "name": "stdout"
        }
      ]
    },
    {
      "cell_type": "code",
      "metadata": {
        "id": "9vhz9Wwz25XJ"
      },
      "source": [
        "# Visualize distribution of labels in train and test sets"
      ],
      "execution_count": 9,
      "outputs": []
    },
    {
      "cell_type": "code",
      "metadata": {
        "id": "l_JVavoit9XD"
      },
      "source": [
        "# Visualize distribution of instances in train and test sets\n",
        "\n"
      ],
      "execution_count": 12,
      "outputs": []
    },
    {
      "cell_type": "code",
      "metadata": {
        "id": "zp_TyBfw307t"
      },
      "source": [
        "def visualize_bags(mnist_arr, bags, bag_labels, n_bags):\n",
        "  pos_bags = np.argwhere(bag_labels == 1).flatten()\n",
        "  neg_bags = np.argwhere(bag_labels == 0).flatten()\n",
        "  n_pos = (n_bags // 2 )\n",
        "  n_neg = n_bags - n_pos\n",
        "  sampled_indices = np.concatenate([np.random.choice(pos_bags, n_pos, replace=False), np.random.choice(neg_bags, n_neg, replace=False)])\n",
        "  sampled_bags = bags[sampled_indices]\n",
        "  sampled_bag_labels = bag_labels[sampled_indices] \n",
        "  max_instances_num = np.max([len(bag) for bag in sampled_bags])\n",
        "  _, axes = plt.subplots(len(sampled_bags), max_instances_num,\n",
        "                         figsize=(10 * len(sampled_bags), \n",
        "                                  10 * max_instances_num))\n",
        "  for idx, bag, bag_label in zip(np.arange(n_bags), sampled_bags, sampled_bag_labels):\n",
        "    ax = axes[idx, :]\n",
        "    instance_size = None\n",
        "    for i in range(max_instances_num):\n",
        "      if i >= len(bag):\n",
        "        ax[i].imshow(np.zeros(instance_size)) # Pad with empty images if bag has fewer instances than max\n",
        "      else:\n",
        "        img = mnist_arr[bag[i]]\n",
        "        if instance_size is None:\n",
        "          w = int(np.sqrt(len(img)))\n",
        "          instance_size = (w, w)\n",
        "        ax[i].imshow(img.reshape(instance_size))\n",
        "      if i == max_instances_num // 2:\n",
        "        ax[i].set_title('Bag Label: {}'.format(bag_label), fontsize=50)\n",
        "  plt.subplots_adjust(bottom=0.1, top=0.3, hspace=0.2)\n"
      ],
      "execution_count": 4,
      "outputs": []
    },
    {
      "cell_type": "code",
      "metadata": {
        "id": "2YIpyQEm32hV"
      },
      "source": [
        "# Visualize the instances within bags\n"
      ],
      "execution_count": 14,
      "outputs": []
    },
    {
      "cell_type": "code",
      "metadata": {
        "id": "n15hLHWX33Zs"
      },
      "source": [
        "from scipy.stats import kurtosis\n",
        "from functools import partial\n",
        "from sklearn.decomposition import PCA\n",
        "from sklearn.preprocessing import StandardScaler\n",
        "\n",
        "def fetch_instances(mnist_features, indices):\n",
        "  return mnist_features[indices]\n",
        "\n",
        "def extract_summary_stats(mnist_features, bags, summary_funcs=[np.mean]):\n",
        "  summary_stats = []\n",
        "  for summary_func in summary_funcs:\n",
        "    summary_func = partial(summary_func, axis=0)\n",
        "    summary_stat = np.array([summary_func(mnist_features[bag]) for bag in bags]).reshape(-1, 64)\n",
        "    summary_stats.append(summary_stat)\n",
        "  return np.concatenate(summary_stats, axis=1)"
      ],
      "execution_count": 5,
      "outputs": []
    },
    {
      "cell_type": "code",
      "metadata": {
        "id": "hqLOchHT35fp"
      },
      "source": [
        "# Extract summary statistics using mean, variance and kurtosis just as before and visualize the pca plots \n"
      ],
      "execution_count": 26,
      "outputs": []
    },
    {
      "cell_type": "code",
      "metadata": {
        "id": "2NQUhs0U4ELH"
      },
      "source": [
        "# fig, ax = plt.subplots(1, 1, figsize=(20, 20))\n",
        "# to_plot_train = pd.DataFrame({'x': X_train_pca[:, 0].flatten(), \n",
        "#                               'y': X_train_pca[:, 1].flatten(),\n",
        "#                               'labels': train_labels})\n",
        "# to_plot_train[\"labels\"] = to_plot_train[\"labels\"].astype('category')\n",
        "# sns.scatterplot(x='x', y='y', data=to_plot_train, hue='labels', ax=ax)"
      ],
      "execution_count": 25,
      "outputs": []
    },
    {
      "cell_type": "code",
      "metadata": {
        "id": "OgaObQBR4E_R"
      },
      "source": [
        "# fig, ax = plt.subplots(1, 1, figsize=(20, 20))\n",
        "# to_plot_test = pd.DataFrame({'x': X_test_pca[:, 0].flatten(), \n",
        "#                               'y': X_test_pca[:, 1].flatten(),\n",
        "#                               'labels': test_labels})\n",
        "# to_plot_test[\"labels\"] = to_plot_test[\"labels\"].astype('category')\n",
        "# sns.scatterplot(x='x', y='y', data=to_plot_test, hue='labels', ax=ax)"
      ],
      "execution_count": 24,
      "outputs": []
    },
    {
      "cell_type": "code",
      "metadata": {
        "id": "cf5KVcIt4JIW"
      },
      "source": [
        "from sklearn.linear_model import LogisticRegression\n",
        "from sklearn.metrics import accuracy_score, balanced_accuracy_score, roc_curve, precision_recall_curve, auc\n",
        "from scipy.stats import mode"
      ],
      "execution_count": 6,
      "outputs": []
    },
    {
      "cell_type": "code",
      "metadata": {
        "id": "IyM_-AYV4MG_"
      },
      "source": [
        "def get_roc_auc(y_true, y_pred):\n",
        "    fpr, tpr, _  = roc_curve(y_true, y_pred)\n",
        "    roc_auc = auc(fpr, tpr)\n",
        "    return roc_auc\n",
        "\n",
        "\n",
        "def get_pr_auc(y_true, y_pred):\n",
        "    precision, recall, _ = precision_recall_curve(y_true, y_pred, pos_label=1)\n",
        "    pr_auc = auc(recall, precision)\n",
        "    return pr_auc\n",
        "\n",
        "\n",
        "def get_accuracy(y_true, y_pred):\n",
        "    return balanced_accuracy_score(y_true, y_pred)"
      ],
      "execution_count": 7,
      "outputs": []
    },
    {
      "cell_type": "code",
      "metadata": {
        "id": "rLz5T9eA4M2V"
      },
      "source": [
        "# summary_statistics_list = {'mean': [np.mean], 'var': [np.var], 'kurtosis': [kurtosis],\n",
        "#                            'mean_var': [np.mean, np.var], 'mean_kurtosis': [np.mean, kurtosis], 'var_kurtosis': [np.var, kurtosis],\n",
        "#                            'mean_var_kurtosis': [np.mean, np.var, kurtosis]}\n",
        "\n",
        "# df = []\n",
        "# for summary_statistics, stats_func in summary_statistics_list.items():\n",
        "\n",
        "#   X_train_stats = extract_summary_stats(X_train, train_bags, stats_func)\n",
        "#   X_test_stats = extract_summary_stats(X_test, test_bags, stats_func)\n",
        "#   model = LogisticRegression(max_iter=10000).fit(X_train_stats, train_labels)\n",
        "#   y_test_pred = model.predict(X_test_stats)\n",
        "#   balanced_accuracy = balanced_accuracy_score(test_labels, y_test_pred)\n",
        "#   roc_auc = get_roc_auc(test_labels, y_test_pred)\n",
        "#   pr_auc = get_pr_auc(test_labels, y_test_pred)\n",
        "#   df += [(summary_statistics, roc_auc, pr_auc, balanced_accuracy)]\n",
        "\n",
        "# df = pd.DataFrame(df, columns=['Model', 'ROC AUC', 'PR AUC', 'Balanced Accuracy']).sort_values(\"Balanced Accuracy\", ascending=False)\n",
        "# df"
      ],
      "execution_count": 30,
      "outputs": []
    },
    {
      "cell_type": "code",
      "metadata": {
        "id": "Wlei8Jdo4Nxn"
      },
      "source": [
        "from sklearn.metrics import pairwise_distances\n",
        "\n",
        "def get_hausdorff_distance(X_train, X_test, train_bags, test_bags, mode='max', quantile=0.7):\n",
        "  pairwise_distance = pairwise_distances(X_test, X_train)\n",
        "  all_bag_distances = []\n",
        "  \n",
        "  for test_bag in tqdm(test_bags, total=len(test_bags)):\n",
        "    test_bag_instances = pairwise_distance[test_bag]\n",
        "    bag_distances = []\n",
        "\n",
        "    for train_bag in train_bags:\n",
        "      if mode == 'max':\n",
        "        test_train_distance = np.max(np.min(test_bag_instances[:, train_bag], axis=1))\n",
        "        train_test_distance = np.max(np.min(test_bag_instances[:, train_bag].transpose(), axis=1))\n",
        "        bag_distances.append(max(test_train_distance, train_test_distance))\n",
        "      \n",
        "      elif mode =='avg':\n",
        "        test_train_distance = np.min(test_bag_instances[:, train_bag], axis=1)\n",
        "        train_test_distance = np.min(test_bag_instances[:, train_bag].transpose(), axis=1)\n",
        "        bag_distances.append(np.mean(np.concatenate([train_test_distance, test_train_distance])))\n",
        "      \n",
        "      elif mode == 'min':\n",
        "        test_train_distance = np.min(np.min(test_bag_instances[:, train_bag], axis=1))\n",
        "        train_test_distance = np.min(np.min(test_bag_instances[:, train_bag].transpose(), axis=1))\n",
        "        bag_distances.append(max(test_train_distance, train_test_distance))\n",
        "      elif mode == 'quantile':\n",
        "        test_train_distance = np.quantile(np.min(test_bag_instances[:, train_bag], axis=1), quantile)\n",
        "        train_test_distance = np.quantile(np.min(test_bag_instances[:, train_bag].transpose(), axis=1), quantile)\n",
        "        bag_distances.append(max(test_train_distance, train_test_distance))\n",
        "    all_bag_distances.append(np.array(bag_distances).reshape(1, -1))\n",
        "  all_bag_distances = np.concatenate(all_bag_distances, axis=0)\n",
        "  return all_bag_distances\n"
      ],
      "execution_count": 8,
      "outputs": []
    },
    {
      "cell_type": "code",
      "metadata": {
        "colab": {
          "base_uri": "https://localhost:8080/",
          "height": 167,
          "referenced_widgets": [
            "5d7469581daf4b029e26cb9bcc51cc4b",
            "3db3cb42c30d400ba4fa6366848b2281",
            "fcfbca7f5114485a87ddb01575959adf",
            "c2d31317deee4bce935164723f73446d",
            "f76dbc388476415498a0b706586629fc",
            "a85d41c423b949cb870c10a84e168e2a",
            "94ec7150d01947d1ab0d43c16d18e344",
            "06455453d17743dfb4b6c495a85e36fb",
            "48a86e6cafbe49918c54722bdf9172a0",
            "eb7a34335194470ea57d778b55379a97",
            "3e1a671bb9774757b189fff3fcd2e6a4",
            "fb25a3a5496844759d7bf785c36f5c67",
            "73371db1ae5e4ac1af6f709d8ce9d377",
            "e572aaa7ffae43bd881e6e90dac7ddb5",
            "f484964eb8cb4791984ca573664a3f07",
            "75e86408ca8446f783f4d052b5cd968a",
            "7c4dd1507b2341c79b64bfb414000550",
            "574d6780939f48e28c1d1938faf68449",
            "7ff3a93bed774546bbb7d6b958ed8cda",
            "67567d00e8aa4d1892afa23ba0c2542b",
            "d723fdcf9ea649259bd3232db48f47a3",
            "2192549544ab43ffafe14a0ba2500de2",
            "b51a0c3cbbdd4b73921b72ca7cba6b01",
            "99189c17b3ac4a3fa465e59bf7325fa8"
          ]
        },
        "id": "SH8akPu6g5FV",
        "outputId": "2c223bf4-e22e-45b3-b14a-d3f6111dcbca"
      },
      "source": [
        "# bag_distances_max = get_hausdorff_distance(X_train, X_test, train_bags, test_bags, mode='max')\n",
        "# bag_distances_avg = get_hausdorff_distance(X_train, X_test, train_bags, test_bags, mode='avg')\n",
        "# bag_distances_min = get_hausdorff_distance(X_train, X_test, train_bags, test_bags, mode='min')"
      ],
      "execution_count": 34,
      "outputs": [
        {
          "output_type": "display_data",
          "data": {
            "application/vnd.jupyter.widget-view+json": {
              "model_id": "5d7469581daf4b029e26cb9bcc51cc4b",
              "version_minor": 0,
              "version_major": 2
            },
            "text/plain": [
              "HBox(children=(FloatProgress(value=0.0, max=2221.0), HTML(value='')))"
            ]
          },
          "metadata": {
            "tags": []
          }
        },
        {
          "output_type": "stream",
          "text": [
            "\n"
          ],
          "name": "stdout"
        },
        {
          "output_type": "display_data",
          "data": {
            "application/vnd.jupyter.widget-view+json": {
              "model_id": "48a86e6cafbe49918c54722bdf9172a0",
              "version_minor": 0,
              "version_major": 2
            },
            "text/plain": [
              "HBox(children=(FloatProgress(value=0.0, max=2221.0), HTML(value='')))"
            ]
          },
          "metadata": {
            "tags": []
          }
        },
        {
          "output_type": "stream",
          "text": [
            "\n"
          ],
          "name": "stdout"
        },
        {
          "output_type": "display_data",
          "data": {
            "application/vnd.jupyter.widget-view+json": {
              "model_id": "7c4dd1507b2341c79b64bfb414000550",
              "version_minor": 0,
              "version_major": 2
            },
            "text/plain": [
              "HBox(children=(FloatProgress(value=0.0, max=2221.0), HTML(value='')))"
            ]
          },
          "metadata": {
            "tags": []
          }
        },
        {
          "output_type": "stream",
          "text": [
            "\n"
          ],
          "name": "stdout"
        }
      ]
    },
    {
      "cell_type": "code",
      "metadata": {
        "id": "M0FjwUxBlboj"
      },
      "source": [
        "from scipy.stats import mode\n",
        "\n",
        "def get_knn_pred(train_labels, test_labels, all_bag_distances, n_neighbors):\n",
        "  return mode(train_labels[np.argsort(all_bag_distances, axis=1)[:, :n_neighbors]], axis=1)[0].flatten()\n",
        "\n",
        "\n",
        "def get_citation_knn_pred_normalized(train_labels, test_labels, all_bag_distances, n_ref_neighbors=10, n_cit_neighbors=10):\n",
        "  reference_nn = train_labels[np.argsort(all_bag_distances, axis=1)[:, :n_ref_neighbors]]\n",
        "  num_pos_neighbors = np.sum(reference_nn, axis=1)\n",
        "  num_neg_neighbors = n_ref_neighbors - num_pos_neighbors\n",
        "  reference_nn_labels = np.concatenate([num_neg_neighbors.reshape(-1, 1),\n",
        "                                        num_pos_neighbors.reshape(-1, 1)], axis=1)\n",
        "  citer_nn_labels = get_citation_counts(train_labels, test_labels, all_bag_distances, n_cit_neighbors)\n",
        "  return reference_nn_labels / np.sum(reference_nn_labels, axis=0) + citer_nn_labels / np.sum(citer_nn_labels, axis=0)\n",
        "\n",
        "def get_citation_counts(train_labels, test_labels, all_bag_distances, n_neighbors):\n",
        "  test_pos_neg_counts = np.zeros((len(test_labels), 2))\n",
        "  nn = np.argsort(all_bag_distances.transpose(), axis=1)[:, :n_neighbors]\n",
        "  for citer in range(len(nn)):\n",
        "    citations = nn[citer]\n",
        "    citer_label = np.array([0, 1]) if train_labels[citer] == 1 else np.array([1, 0])\n",
        "    for citation in citations:\n",
        "      test_pos_neg_counts[citation, :] += citer_label\n",
        "  return test_pos_neg_counts\n"
      ],
      "execution_count": 9,
      "outputs": []
    },
    {
      "cell_type": "code",
      "metadata": {
        "colab": {
          "base_uri": "https://localhost:8080/",
          "height": 143
        },
        "id": "67pB0a5Wloks",
        "outputId": "ef8ae5ce-a57d-4be2-ccce-d94ee823d1e9"
      },
      "source": [
        "# n_neighbors_ref = 15\n",
        "# n_neighbors_cit = 5\n",
        "\n",
        "# df_knn = []\n",
        "\n",
        "# for distance_mode, distance in zip(['max', 'avg', 'min'], \n",
        "#                           [bag_distances_max, bag_distances_avg, bag_distances_min]):\n",
        "#   y_pred_test_knn = get_knn_pred(train_labels, test_labels, distance, n_neighbors_ref)\n",
        "#   balanced_acc = balanced_accuracy_score(test_labels, y_pred_test_knn)\n",
        "#   df_knn += [(distance_mode, balanced_acc)]\n",
        "# df_knn = pd.DataFrame(df_knn, columns=['Distance Type', 'Balanced Accuracy']).sort_values(\"Balanced Accuracy\", ascending=False)\n",
        "\n",
        "# df_cknn = []\n",
        "\n",
        "# for distance_mode, distance in zip(['max', 'avg', 'min'], \n",
        "#                           [bag_distances_max, bag_distances_avg, bag_distances_min]):\n",
        "#   y_pred_test_knn = np.argmax(get_citation_knn_pred(train_labels, test_labels, distance, n_neighbors_ref, n_neighbors_cit), axis=1)\n",
        "#   balanced_acc = balanced_accuracy_score(test_labels, y_pred_test_knn)\n",
        "#   df_cknn += [(distance_mode, balanced_acc)]\n",
        "# df_cknn = pd.DataFrame(df_cknn, columns=['Distance Type', 'Balanced Accuracy']).sort_values(\"Balanced Accuracy\", ascending=False)\n",
        "\n",
        "# df = df_knn.merge(df_cknn, on=[\"Distance Type\"], suffixes=['_knn', '_cknn'])\n",
        "# df"
      ],
      "execution_count": 38,
      "outputs": [
        {
          "output_type": "execute_result",
          "data": {
            "text/html": [
              "<div>\n",
              "<style scoped>\n",
              "    .dataframe tbody tr th:only-of-type {\n",
              "        vertical-align: middle;\n",
              "    }\n",
              "\n",
              "    .dataframe tbody tr th {\n",
              "        vertical-align: top;\n",
              "    }\n",
              "\n",
              "    .dataframe thead th {\n",
              "        text-align: right;\n",
              "    }\n",
              "</style>\n",
              "<table border=\"1\" class=\"dataframe\">\n",
              "  <thead>\n",
              "    <tr style=\"text-align: right;\">\n",
              "      <th></th>\n",
              "      <th>Distance Type</th>\n",
              "      <th>Balanced Accuracy_knn</th>\n",
              "      <th>Balanced Accuracy_cknn</th>\n",
              "    </tr>\n",
              "  </thead>\n",
              "  <tbody>\n",
              "    <tr>\n",
              "      <th>0</th>\n",
              "      <td>avg</td>\n",
              "      <td>0.792897</td>\n",
              "      <td>0.787266</td>\n",
              "    </tr>\n",
              "    <tr>\n",
              "      <th>1</th>\n",
              "      <td>max</td>\n",
              "      <td>0.708849</td>\n",
              "      <td>0.701752</td>\n",
              "    </tr>\n",
              "    <tr>\n",
              "      <th>2</th>\n",
              "      <td>min</td>\n",
              "      <td>0.613175</td>\n",
              "      <td>0.618387</td>\n",
              "    </tr>\n",
              "  </tbody>\n",
              "</table>\n",
              "</div>"
            ],
            "text/plain": [
              "  Distance Type  Balanced Accuracy_knn  Balanced Accuracy_cknn\n",
              "0           avg               0.792897                0.787266\n",
              "1           max               0.708849                0.701752\n",
              "2           min               0.613175                0.618387"
            ]
          },
          "metadata": {
            "tags": []
          },
          "execution_count": 38
        }
      ]
    },
    {
      "cell_type": "markdown",
      "metadata": {
        "id": "zDnXuSwsAofp"
      },
      "source": [
        "Next we try instance based method, i.e, product rule and sum rule. First we train a classifier to tell whether an instance belongs to a positive or negative bag.\n",
        "\n",
        "\\\\\n",
        "Remember the product rule is given by:\n",
        "\n",
        "$$p(+|X_i) \\propto p(+)^{-(n_i - 1)} \\prod_{i=1}^{n_i} p(+|x_{ij})p(x_{ij})$$\n",
        "$$p(-|X_i) \\propto p(-)^{-(n_i - 1)} \\prod_{i=1}^{n_i} p(-|x_{ij})p(x_{ij})$$\n",
        "\n",
        "So essentially we can compute\n",
        "\n",
        "$$p(+|X_i) = p(+)^{-(n_i - 1)} \\prod_{i=1}^{n_i} p(+|x_{ij})$$\n",
        "$$p(-|X_i)p(-)^{-(n_i - 1)} \\prod_{i=1}^{n_i} p(-|x_{ij})$$\n",
        "\n",
        "and normalize the two so that they sum up to 1. Similarly we can approximate these two quantities using sum-rule and normalize the two quantities given below:\n",
        "\n",
        "$$p(+|X_i) = (1-n_i)p(+) + \\sum_{i=1}^{n_i} p(+|x_{ij})$$\n",
        "$$p(-|X_i) = (1-n_i)p(-) + \\sum_{i=1}^{n_i} p(-|x_{ij})$$\n"
      ]
    },
    {
      "cell_type": "code",
      "metadata": {
        "id": "VPbnS3NHFrEd"
      },
      "source": [
        "def product_rule(y_instance_proba, pos_prior, neg_prior):\n",
        "  # This function works on one individual bag\n",
        "  # y_instance proba is of the shape (N_i, 2)\n",
        "\n",
        "  n_instances = len(y_instance_proba)\n",
        "  p_neg = (neg_prior) ** (n_instances - 1) * np.product(y_instance_proba[:, 0])\n",
        "  p_pos = (pos_prior) ** (n_instances - 1) * np.product(y_instance_proba[:, 1])\n",
        "\n",
        "  return np.array([p_neg, p_pos]) / (p_neg + p_pos)\n",
        "\n",
        "def sum_rule(y_instance_proba, pos_prior, neg_prior):\n",
        "  # This function works on one individual bag\n",
        "  # y_instance proba is of the shape (N_i, 2)\n",
        "\n",
        "  n_instances = len(y_instance_proba)\n",
        "  p_neg = ((neg_prior) ** (1 - n_instances)) * np.product(y_instance_proba[:, 0])\n",
        "  p_pos = ((pos_prior) ** (1 - n_instances)) * np.product(y_instance_proba[:, 1])\n",
        "\n",
        "  return np.array([p_neg, p_pos]) / (p_neg + p_pos)\n",
        "\n",
        "def sum_rule(y_instance_proba, pos_prior, neg_prior):\n",
        "  # This function works on one individual bag\n",
        "  # y_instance proba is of the shape (N_i, 2)\n",
        "\n",
        "  n_instances = len(y_instance_proba)\n",
        "  p_neg = (1 - n_instances) * (neg_prior) + np.sum(y_instance_proba[:, 0])\n",
        "  p_pos = (1 - n_instances) * (pos_prior) + np.sum(y_instance_proba[:, 1])\n",
        "\n",
        "  return np.array([p_neg, p_pos]) / (p_neg + p_pos)"
      ],
      "execution_count": 10,
      "outputs": []
    },
    {
      "cell_type": "code",
      "metadata": {
        "id": "Zi-EBe2MJN-2"
      },
      "source": [
        "# Create training labels for instance-level classifier and train a Logistic Regression model to predict whether an instance belongs to a positive or negative bag\n",
        "  "
      ],
      "execution_count": 43,
      "outputs": []
    },
    {
      "cell_type": "code",
      "metadata": {
        "id": "PSbTSc4mDJU3"
      },
      "source": [
        "## Compare the results of the various rules\n",
        "\n",
        "\n",
        "# df = []\n",
        "# neg_prior, pos_prior = np.unique(train_labels, return_counts=True)[1] / len(train_labels)\n",
        "\n",
        "# for mode, mi_func in zip(['max', 'mean', 'prod_rule', 'sum_rule'], [np.mean, np.max, product_rule, sum_rule]):\n",
        "#   if mode in ('max', 'mean'):\n",
        "#     y_test_pred_proba = np.concatenate([mi_func(y_test_instance_pred[bag], axis=0).reshape(-1, 2) for bag in test_bags])\n",
        "#   else:\n",
        "#     y_test_pred_proba = np.concatenate([mi_func(y_test_instance_pred[bag], pos_prior, neg_prior).reshape(-1, 2) for bag in test_bags])\n",
        "#   y_test_pred = np.argmax(y_test_pred_proba, axis=1)\n",
        "#   balanced_accuracy = balanced_accuracy_score(test_labels, y_test_pred)\n",
        "#   roc_auc = get_roc_auc(test_labels, y_test_pred)\n",
        "#   pr_auc = get_pr_auc(test_labels, y_test_pred)\n",
        "#   df += [(mode, roc_auc, pr_auc, balanced_accuracy)]\n",
        "\n",
        "# df = pd.DataFrame(df, columns=['Model', 'ROC AUC', 'PR AUC', 'Balanced Accuracy']).sort_values(\"Balanced Accuracy\", ascending=False)\n",
        "# df"
      ],
      "execution_count": 44,
      "outputs": []
    },
    {
      "cell_type": "code",
      "metadata": {
        "id": "S02S2DdHD_J6"
      },
      "source": [
        "import torch.nn.functional as F\n",
        "import torch\n",
        "from torch import nn\n",
        "from torch.nn import BCELoss\n",
        "from torch.optim import LBFGS, Adam\n",
        "from torch.utils.data import Dataset, DataLoader"
      ],
      "execution_count": 11,
      "outputs": []
    },
    {
      "cell_type": "code",
      "metadata": {
        "id": "l3OL_9SkRyvn"
      },
      "source": [
        "class LogisticRegressionMI(nn.Module):\n",
        "\n",
        "  def __init__(self, n_dim, mode='max'):\n",
        "    super(LogisticRegressionMI, self).__init__()\n",
        "    if mode not in ('max', 'mean'):\n",
        "      raise ValueError(\"Invalid mode {}, must be one of max or mean\".format(mode))\n",
        "    self.mode = mode\n",
        "    self.encoder = nn.Linear(n_dim, 1)\n",
        "    \n",
        "  def forward(self, x, indices):\n",
        "    x = self.encoder(x)\n",
        "    x = torch.sigmoid(x)\n",
        "    if self.mode == 'max':\n",
        "      x = torch.stack([torch.max(x[idx]) for idx in indices])\n",
        "    else:\n",
        "      x = torch.stack([torch.mean(x[idx]) for idx in indices])\n",
        "    return x\n",
        "  \n",
        "  def get_max_indices(self, x, indices):\n",
        "    x = self.encoder(x)\n",
        "    x = torch.sigmoid(x)\n",
        "    pred, max_indices = [], []\n",
        "    for idx in indices:\n",
        "      max_idx = torch.argmax(x[idx])\n",
        "      max_indices.append(idx[max_idx])\n",
        "      pred.append(x[idx][max_idx])\n",
        "    return torch.cat(pred), np.array(max_indices)\n"
      ],
      "execution_count": 12,
      "outputs": []
    },
    {
      "cell_type": "code",
      "metadata": {
        "id": "67GNGTUQUtm9"
      },
      "source": [
        "# logit_mi_max = LogisticRegressionMI(64, mode='max')\n",
        "# criterion = BCELoss()\n",
        "# optimizer = LBFGS(logit_mi_max.parameters(), lr=0.001, max_iter=1000)\n",
        "# logit_mi_max.train()\n",
        "\n",
        "\n",
        "# def closure():\n",
        "#     optimizer.zero_grad()\n",
        "#     output = logit_mi_max(torch.Tensor(X_train), train_bags)\n",
        "#     loss = criterion(output, torch.Tensor(train_labels))\n",
        "#     loss.backward()\n",
        "#     return loss\n",
        "\n",
        "# optimizer.step(closure) \n",
        "\n",
        "# logit_mi_max.eval()\n",
        "# with torch.no_grad():\n",
        "#   y_pred_logit_mi_max_test, max_indices = logit_mi_max(torch.Tensor(X_test), test_bags).detach().numpy()\n",
        "#   print(\"ROC AUC: {}\".format(get_roc_auc(test_labels, y_pred_logit_mi_max_test)))\n",
        "#   print(\"PR AUC: {}\".format(get_pr_auc(test_labels, y_pred_logit_mi_max_test)))\n",
        "#   print(\"Accuracy Score: {}\".format(accuracy_score(test_labels, y_pred_logit_mi_max_test >= 0.5)))\n",
        "#   print(\"Balanced Accuracy Score: {}\".format(balanced_accuracy_score(test_labels, y_pred_logit_mi_max_test >= 0.5)))"
      ],
      "execution_count": 18,
      "outputs": []
    },
    {
      "cell_type": "code",
      "metadata": {
        "id": "kwVHd3le_JXa"
      },
      "source": [
        "# logit_mi_mean = LogisticRegressionMI(64, mode='mean')\n",
        "# criterion = BCELoss()\n",
        "# optimizer = LBFGS(logit_mi_mean.parameters(), lr=0.001, max_iter=1000)\n",
        "# logit_mi_mean.train()\n",
        "\n",
        "\n",
        "# def closure():\n",
        "#     optimizer.zero_grad()\n",
        "#     output = logit_mi_mean(torch.Tensor(X_train), train_bags)\n",
        "#     loss = criterion(output, torch.Tensor(train_labels))\n",
        "#     loss.backward()\n",
        "#     return loss\n",
        "\n",
        "# optimizer.step(closure) \n",
        "\n",
        "# logit_mi_mean.eval()\n",
        "# with torch.no_grad():\n",
        "#   y_pred_logit_mi_mean_test = logit_mi_mean(torch.Tensor(X_test), test_bags).detach().numpy()\n",
        "#   print(\"ROC AUC: {}\".format(get_roc_auc(test_labels, y_pred_logit_mi_mean_test)))\n",
        "#   print(\"PR AUC: {}\".format(get_pr_auc(test_labels, y_pred_logit_mi_mean_test)))\n",
        "#   print(\"Accuracy Score: {}\".format(accuracy_score(test_labels, y_pred_logit_mi_mean_test >= 0.5)))\n",
        "#   print(\"Balanced Accuracy Score: {}\".format(balanced_accuracy_score(test_labels, y_pred_logit_mi_mean_test >= 0.5)))"
      ],
      "execution_count": 17,
      "outputs": []
    },
    {
      "cell_type": "code",
      "metadata": {
        "id": "cL7Y7q275YCH"
      },
      "source": [
        "# with torch.no_grad():\n",
        "#   y_pred_logit_mi_max_test, max_indices = logit_mi_max.get_max_indices(torch.Tensor(X_test), test_bags)\n",
        "#   y_pred_logit_mi_max_test = y_pred_logit_mi_max_test.detach().cpu().numpy()\n",
        "#   print(\"ROC AUC: {}\".format(get_roc_auc(test_labels, y_pred_logit_mi_max_test)))\n",
        "#   print(\"PR AUC: {}\".format(get_pr_auc(test_labels, y_pred_logit_mi_max_test)))\n",
        "#   print(\"Accuracy Score: {}\".format(accuracy_score(test_labels, y_pred_logit_mi_max_test >= 0.5)))\n",
        "#   print(\"Balanced Accuracy Score: {}\".format(balanced_accuracy_score(test_labels, y_pred_logit_mi_max_test >= 0.5)))"
      ],
      "execution_count": 28,
      "outputs": []
    },
    {
      "cell_type": "code",
      "metadata": {
        "id": "yw7KPUZBFXwA"
      },
      "source": [
        "# pos_preds = (y_pred_logit_mi_max_test >= 0.5)\n",
        "# pos_max_indices = max_indices[pos_preds]\n",
        "# indices = np.random.choice(len(pos_max_indices), 5)\n",
        "# fig, axes = plt.subplots(1, 5, figsize=(10, 50))\n",
        "# for idx, ax in zip(indices, axes):\n",
        "#   ax.imshow(mnist_arr_test[pos_max_indices][idx].reshape(28, 28))"
      ],
      "execution_count": 27,
      "outputs": []
    },
    {
      "cell_type": "code",
      "metadata": {
        "id": "bsTgXQs_IuA3"
      },
      "source": [
        "# neg_preds = (y_pred_logit_mi_max_test < 0.5)\n",
        "\n",
        "# neg_max_indices = max_indices[neg_preds]\n",
        "# indices = np.random.choice(len(neg_max_indices), 5)\n",
        "# fig, axes = plt.subplots(1, 5, figsize=(10, 50))\n",
        "# for idx, ax in zip(indices, axes):\n",
        "#   ax.imshow(mnist_arr_test[neg_max_indices][idx].reshape(28, 28))\n",
        "#   ax.set_title(y_test[neg_max_indices][idx])"
      ],
      "execution_count": 26,
      "outputs": []
    }
  ]
}