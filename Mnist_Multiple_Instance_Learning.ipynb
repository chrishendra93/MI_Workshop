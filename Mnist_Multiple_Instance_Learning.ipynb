{
  "nbformat": 4,
  "nbformat_minor": 0,
  "metadata": {
    "colab": {
      "name": "Mnist Multiple Instance Learning",
      "provenance": [],
      "collapsed_sections": [],
      "include_colab_link": true
    },
    "kernelspec": {
      "name": "python3",
      "display_name": "Python 3"
    },
    "language_info": {
      "name": "python"
    },
    "widgets": {
      "application/vnd.jupyter.widget-state+json": {
        "774b0008b5244be6aa78e559bff60975": {
          "model_module": "@jupyter-widgets/controls",
          "model_name": "HBoxModel",
          "state": {
            "_view_name": "HBoxView",
            "_dom_classes": [],
            "_model_name": "HBoxModel",
            "_view_module": "@jupyter-widgets/controls",
            "_model_module_version": "1.5.0",
            "_view_count": null,
            "_view_module_version": "1.5.0",
            "box_style": "",
            "layout": "IPY_MODEL_b25812c5ad29493bb3f0eebddd77f9ee",
            "_model_module": "@jupyter-widgets/controls",
            "children": [
              "IPY_MODEL_4239fb22c18248508c516096944e7ea0",
              "IPY_MODEL_9089b7576df845df9906894012c8e2b7"
            ]
          }
        },
        "b25812c5ad29493bb3f0eebddd77f9ee": {
          "model_module": "@jupyter-widgets/base",
          "model_name": "LayoutModel",
          "state": {
            "_view_name": "LayoutView",
            "grid_template_rows": null,
            "right": null,
            "justify_content": null,
            "_view_module": "@jupyter-widgets/base",
            "overflow": null,
            "_model_module_version": "1.2.0",
            "_view_count": null,
            "flex_flow": null,
            "width": null,
            "min_width": null,
            "border": null,
            "align_items": null,
            "bottom": null,
            "_model_module": "@jupyter-widgets/base",
            "top": null,
            "grid_column": null,
            "overflow_y": null,
            "overflow_x": null,
            "grid_auto_flow": null,
            "grid_area": null,
            "grid_template_columns": null,
            "flex": null,
            "_model_name": "LayoutModel",
            "justify_items": null,
            "grid_row": null,
            "max_height": null,
            "align_content": null,
            "visibility": null,
            "align_self": null,
            "height": null,
            "min_height": null,
            "padding": null,
            "grid_auto_rows": null,
            "grid_gap": null,
            "max_width": null,
            "order": null,
            "_view_module_version": "1.2.0",
            "grid_template_areas": null,
            "object_position": null,
            "object_fit": null,
            "grid_auto_columns": null,
            "margin": null,
            "display": null,
            "left": null
          }
        },
        "4239fb22c18248508c516096944e7ea0": {
          "model_module": "@jupyter-widgets/controls",
          "model_name": "FloatProgressModel",
          "state": {
            "_view_name": "ProgressView",
            "style": "IPY_MODEL_a0d322f048234277b505fe00843adcef",
            "_dom_classes": [],
            "description": "100%",
            "_model_name": "FloatProgressModel",
            "bar_style": "success",
            "max": 2230,
            "_view_module": "@jupyter-widgets/controls",
            "_model_module_version": "1.5.0",
            "value": 2230,
            "_view_count": null,
            "_view_module_version": "1.5.0",
            "orientation": "horizontal",
            "min": 0,
            "description_tooltip": null,
            "_model_module": "@jupyter-widgets/controls",
            "layout": "IPY_MODEL_ffdadeae6f754903bfd4b277c25a2c27"
          }
        },
        "9089b7576df845df9906894012c8e2b7": {
          "model_module": "@jupyter-widgets/controls",
          "model_name": "HTMLModel",
          "state": {
            "_view_name": "HTMLView",
            "style": "IPY_MODEL_c95df810e5524cd0a465d2cda08b26e7",
            "_dom_classes": [],
            "description": "",
            "_model_name": "HTMLModel",
            "placeholder": "​",
            "_view_module": "@jupyter-widgets/controls",
            "_model_module_version": "1.5.0",
            "value": " 2230/2230 [04:41&lt;00:00,  7.92it/s]",
            "_view_count": null,
            "_view_module_version": "1.5.0",
            "description_tooltip": null,
            "_model_module": "@jupyter-widgets/controls",
            "layout": "IPY_MODEL_1c231f37d41d4693a1d9665ca25e2fe8"
          }
        },
        "a0d322f048234277b505fe00843adcef": {
          "model_module": "@jupyter-widgets/controls",
          "model_name": "ProgressStyleModel",
          "state": {
            "_view_name": "StyleView",
            "_model_name": "ProgressStyleModel",
            "description_width": "initial",
            "_view_module": "@jupyter-widgets/base",
            "_model_module_version": "1.5.0",
            "_view_count": null,
            "_view_module_version": "1.2.0",
            "bar_color": null,
            "_model_module": "@jupyter-widgets/controls"
          }
        },
        "ffdadeae6f754903bfd4b277c25a2c27": {
          "model_module": "@jupyter-widgets/base",
          "model_name": "LayoutModel",
          "state": {
            "_view_name": "LayoutView",
            "grid_template_rows": null,
            "right": null,
            "justify_content": null,
            "_view_module": "@jupyter-widgets/base",
            "overflow": null,
            "_model_module_version": "1.2.0",
            "_view_count": null,
            "flex_flow": null,
            "width": null,
            "min_width": null,
            "border": null,
            "align_items": null,
            "bottom": null,
            "_model_module": "@jupyter-widgets/base",
            "top": null,
            "grid_column": null,
            "overflow_y": null,
            "overflow_x": null,
            "grid_auto_flow": null,
            "grid_area": null,
            "grid_template_columns": null,
            "flex": null,
            "_model_name": "LayoutModel",
            "justify_items": null,
            "grid_row": null,
            "max_height": null,
            "align_content": null,
            "visibility": null,
            "align_self": null,
            "height": null,
            "min_height": null,
            "padding": null,
            "grid_auto_rows": null,
            "grid_gap": null,
            "max_width": null,
            "order": null,
            "_view_module_version": "1.2.0",
            "grid_template_areas": null,
            "object_position": null,
            "object_fit": null,
            "grid_auto_columns": null,
            "margin": null,
            "display": null,
            "left": null
          }
        },
        "c95df810e5524cd0a465d2cda08b26e7": {
          "model_module": "@jupyter-widgets/controls",
          "model_name": "DescriptionStyleModel",
          "state": {
            "_view_name": "StyleView",
            "_model_name": "DescriptionStyleModel",
            "description_width": "",
            "_view_module": "@jupyter-widgets/base",
            "_model_module_version": "1.5.0",
            "_view_count": null,
            "_view_module_version": "1.2.0",
            "_model_module": "@jupyter-widgets/controls"
          }
        },
        "1c231f37d41d4693a1d9665ca25e2fe8": {
          "model_module": "@jupyter-widgets/base",
          "model_name": "LayoutModel",
          "state": {
            "_view_name": "LayoutView",
            "grid_template_rows": null,
            "right": null,
            "justify_content": null,
            "_view_module": "@jupyter-widgets/base",
            "overflow": null,
            "_model_module_version": "1.2.0",
            "_view_count": null,
            "flex_flow": null,
            "width": null,
            "min_width": null,
            "border": null,
            "align_items": null,
            "bottom": null,
            "_model_module": "@jupyter-widgets/base",
            "top": null,
            "grid_column": null,
            "overflow_y": null,
            "overflow_x": null,
            "grid_auto_flow": null,
            "grid_area": null,
            "grid_template_columns": null,
            "flex": null,
            "_model_name": "LayoutModel",
            "justify_items": null,
            "grid_row": null,
            "max_height": null,
            "align_content": null,
            "visibility": null,
            "align_self": null,
            "height": null,
            "min_height": null,
            "padding": null,
            "grid_auto_rows": null,
            "grid_gap": null,
            "max_width": null,
            "order": null,
            "_view_module_version": "1.2.0",
            "grid_template_areas": null,
            "object_position": null,
            "object_fit": null,
            "grid_auto_columns": null,
            "margin": null,
            "display": null,
            "left": null
          }
        }
      }
    }
  },
  "cells": [
    {
      "cell_type": "markdown",
      "metadata": {
        "id": "view-in-github",
        "colab_type": "text"
      },
      "source": [
        "<a href=\"https://colab.research.google.com/github/chrishendra93/MI_Workshop/blob/main/Mnist_Multiple_Instance_Learning.ipynb\" target=\"_parent\"><img src=\"https://colab.research.google.com/assets/colab-badge.svg\" alt=\"Open In Colab\"/></a>"
      ]
    },
    {
      "cell_type": "code",
      "metadata": {
        "colab": {
          "base_uri": "https://localhost:8080/"
        },
        "id": "S_Iygma0yoOG",
        "outputId": "06aff2c5-98cf-474c-f405-dd02effdaf78"
      },
      "source": [
        "!git clone https://github.com/chrishendra93/MI_Workshop\n"
      ],
      "execution_count": null,
      "outputs": [
        {
          "output_type": "stream",
          "text": [
            "Cloning into 'MI_Workshop'...\n",
            "remote: Enumerating objects: 13, done.\u001b[K\n",
            "remote: Counting objects: 100% (13/13), done.\u001b[K\n",
            "remote: Compressing objects: 100% (11/11), done.\u001b[K\n",
            "remote: Total 13 (delta 1), reused 10 (delta 1), pack-reused 0\u001b[K\n",
            "Unpacking objects: 100% (13/13), done.\n"
          ],
          "name": "stdout"
        }
      ]
    },
    {
      "cell_type": "code",
      "metadata": {
        "id": "GE8451X43GFq"
      },
      "source": [
        "import os\n",
        "import matplotlib.pyplot as plt\n",
        "import pandas as pd\n",
        "import numpy as np\n",
        "from tqdm.notebook import tqdm"
      ],
      "execution_count": null,
      "outputs": []
    },
    {
      "cell_type": "code",
      "metadata": {
        "id": "YRdWT-eomoZc"
      },
      "source": [
        "np.random.seed(0)"
      ],
      "execution_count": null,
      "outputs": []
    },
    {
      "cell_type": "code",
      "metadata": {
        "colab": {
          "base_uri": "https://localhost:8080/"
        },
        "id": "RqypCje8B6NM",
        "outputId": "6c2f9389-b88e-4c78-b14c-719feaa209d3"
      },
      "source": [
        "root_dir = \"./MI_Workshop/mnist_clr\"\n",
        "\n",
        "mnist_columns = [\"label\"] + [\"features_{}\".format(i) for i in range(28 ** 2)]\n",
        "mnist_train = pd.read_csv(\"./sample_data/mnist_train_small.csv\", names=mnist_columns)\n",
        "mnist_test = pd.read_csv(\"./sample_data/mnist_test.csv\", names=mnist_columns)\n",
        "mnist_arr_train = mnist_train[[\"features_{}\".format(i) for i in range(28 ** 2)]].values\n",
        "mnist_arr_test = mnist_test[[\"features_{}\".format(i) for i in range(28 ** 2)]].values\n",
        "\n",
        "X_train = np.load(os.path.join(root_dir, \"train_features.npy\"))\n",
        "X_test = np.load(os.path.join(root_dir, \"test_features.npy\"))\n",
        "y_train = np.load(os.path.join(root_dir, \"train_labels.npy\"))\n",
        "y_test = np.load(os.path.join(root_dir, \"test_labels.npy\"))\n",
        "\n",
        "print(np.all(y_train == mnist_train[\"label\"].values))\n",
        "print(np.all(y_test == mnist_test[\"label\"].values))\n",
        "\n",
        "train_bags, train_labels = np.load(os.path.join(root_dir, \"train_bags.npy\")), np.load(os.path.join(root_dir, \"train_bags_labels.npy\"))\n",
        "test_bags, test_labels = np.load(os.path.join(root_dir, \"test_bags.npy\")), np.load(os.path.join(root_dir, \"test_bags_labels.npy\"))"
      ],
      "execution_count": null,
      "outputs": [
        {
          "output_type": "stream",
          "text": [
            "True\n",
            "True\n"
          ],
          "name": "stdout"
        }
      ]
    },
    {
      "cell_type": "code",
      "metadata": {
        "colab": {
          "base_uri": "https://localhost:8080/",
          "height": 253
        },
        "id": "AP2I6xj9LUlU",
        "outputId": "f64a1f31-fb4e-4bba-b2c5-822064882ce3"
      },
      "source": [
        "mnist_train.head()"
      ],
      "execution_count": null,
      "outputs": [
        {
          "output_type": "execute_result",
          "data": {
            "text/html": [
              "<div>\n",
              "<style scoped>\n",
              "    .dataframe tbody tr th:only-of-type {\n",
              "        vertical-align: middle;\n",
              "    }\n",
              "\n",
              "    .dataframe tbody tr th {\n",
              "        vertical-align: top;\n",
              "    }\n",
              "\n",
              "    .dataframe thead th {\n",
              "        text-align: right;\n",
              "    }\n",
              "</style>\n",
              "<table border=\"1\" class=\"dataframe\">\n",
              "  <thead>\n",
              "    <tr style=\"text-align: right;\">\n",
              "      <th></th>\n",
              "      <th>label</th>\n",
              "      <th>features_0</th>\n",
              "      <th>features_1</th>\n",
              "      <th>features_2</th>\n",
              "      <th>features_3</th>\n",
              "      <th>features_4</th>\n",
              "      <th>features_5</th>\n",
              "      <th>features_6</th>\n",
              "      <th>features_7</th>\n",
              "      <th>features_8</th>\n",
              "      <th>features_9</th>\n",
              "      <th>features_10</th>\n",
              "      <th>features_11</th>\n",
              "      <th>features_12</th>\n",
              "      <th>features_13</th>\n",
              "      <th>features_14</th>\n",
              "      <th>features_15</th>\n",
              "      <th>features_16</th>\n",
              "      <th>features_17</th>\n",
              "      <th>features_18</th>\n",
              "      <th>features_19</th>\n",
              "      <th>features_20</th>\n",
              "      <th>features_21</th>\n",
              "      <th>features_22</th>\n",
              "      <th>features_23</th>\n",
              "      <th>features_24</th>\n",
              "      <th>features_25</th>\n",
              "      <th>features_26</th>\n",
              "      <th>features_27</th>\n",
              "      <th>features_28</th>\n",
              "      <th>features_29</th>\n",
              "      <th>features_30</th>\n",
              "      <th>features_31</th>\n",
              "      <th>features_32</th>\n",
              "      <th>features_33</th>\n",
              "      <th>features_34</th>\n",
              "      <th>features_35</th>\n",
              "      <th>features_36</th>\n",
              "      <th>features_37</th>\n",
              "      <th>features_38</th>\n",
              "      <th>...</th>\n",
              "      <th>features_744</th>\n",
              "      <th>features_745</th>\n",
              "      <th>features_746</th>\n",
              "      <th>features_747</th>\n",
              "      <th>features_748</th>\n",
              "      <th>features_749</th>\n",
              "      <th>features_750</th>\n",
              "      <th>features_751</th>\n",
              "      <th>features_752</th>\n",
              "      <th>features_753</th>\n",
              "      <th>features_754</th>\n",
              "      <th>features_755</th>\n",
              "      <th>features_756</th>\n",
              "      <th>features_757</th>\n",
              "      <th>features_758</th>\n",
              "      <th>features_759</th>\n",
              "      <th>features_760</th>\n",
              "      <th>features_761</th>\n",
              "      <th>features_762</th>\n",
              "      <th>features_763</th>\n",
              "      <th>features_764</th>\n",
              "      <th>features_765</th>\n",
              "      <th>features_766</th>\n",
              "      <th>features_767</th>\n",
              "      <th>features_768</th>\n",
              "      <th>features_769</th>\n",
              "      <th>features_770</th>\n",
              "      <th>features_771</th>\n",
              "      <th>features_772</th>\n",
              "      <th>features_773</th>\n",
              "      <th>features_774</th>\n",
              "      <th>features_775</th>\n",
              "      <th>features_776</th>\n",
              "      <th>features_777</th>\n",
              "      <th>features_778</th>\n",
              "      <th>features_779</th>\n",
              "      <th>features_780</th>\n",
              "      <th>features_781</th>\n",
              "      <th>features_782</th>\n",
              "      <th>features_783</th>\n",
              "    </tr>\n",
              "  </thead>\n",
              "  <tbody>\n",
              "    <tr>\n",
              "      <th>0</th>\n",
              "      <td>6</td>\n",
              "      <td>0</td>\n",
              "      <td>0</td>\n",
              "      <td>0</td>\n",
              "      <td>0</td>\n",
              "      <td>0</td>\n",
              "      <td>0</td>\n",
              "      <td>0</td>\n",
              "      <td>0</td>\n",
              "      <td>0</td>\n",
              "      <td>0</td>\n",
              "      <td>0</td>\n",
              "      <td>0</td>\n",
              "      <td>0</td>\n",
              "      <td>0</td>\n",
              "      <td>0</td>\n",
              "      <td>0</td>\n",
              "      <td>0</td>\n",
              "      <td>0</td>\n",
              "      <td>0</td>\n",
              "      <td>0</td>\n",
              "      <td>0</td>\n",
              "      <td>0</td>\n",
              "      <td>0</td>\n",
              "      <td>0</td>\n",
              "      <td>0</td>\n",
              "      <td>0</td>\n",
              "      <td>0</td>\n",
              "      <td>0</td>\n",
              "      <td>0</td>\n",
              "      <td>0</td>\n",
              "      <td>0</td>\n",
              "      <td>0</td>\n",
              "      <td>0</td>\n",
              "      <td>0</td>\n",
              "      <td>0</td>\n",
              "      <td>0</td>\n",
              "      <td>0</td>\n",
              "      <td>0</td>\n",
              "      <td>0</td>\n",
              "      <td>...</td>\n",
              "      <td>0</td>\n",
              "      <td>0</td>\n",
              "      <td>0</td>\n",
              "      <td>0</td>\n",
              "      <td>0</td>\n",
              "      <td>0</td>\n",
              "      <td>0</td>\n",
              "      <td>0</td>\n",
              "      <td>0</td>\n",
              "      <td>0</td>\n",
              "      <td>0</td>\n",
              "      <td>0</td>\n",
              "      <td>0</td>\n",
              "      <td>0</td>\n",
              "      <td>0</td>\n",
              "      <td>0</td>\n",
              "      <td>0</td>\n",
              "      <td>0</td>\n",
              "      <td>0</td>\n",
              "      <td>0</td>\n",
              "      <td>0</td>\n",
              "      <td>0</td>\n",
              "      <td>0</td>\n",
              "      <td>0</td>\n",
              "      <td>0</td>\n",
              "      <td>0</td>\n",
              "      <td>0</td>\n",
              "      <td>0</td>\n",
              "      <td>0</td>\n",
              "      <td>0</td>\n",
              "      <td>0</td>\n",
              "      <td>0</td>\n",
              "      <td>0</td>\n",
              "      <td>0</td>\n",
              "      <td>0</td>\n",
              "      <td>0</td>\n",
              "      <td>0</td>\n",
              "      <td>0</td>\n",
              "      <td>0</td>\n",
              "      <td>0</td>\n",
              "    </tr>\n",
              "    <tr>\n",
              "      <th>1</th>\n",
              "      <td>5</td>\n",
              "      <td>0</td>\n",
              "      <td>0</td>\n",
              "      <td>0</td>\n",
              "      <td>0</td>\n",
              "      <td>0</td>\n",
              "      <td>0</td>\n",
              "      <td>0</td>\n",
              "      <td>0</td>\n",
              "      <td>0</td>\n",
              "      <td>0</td>\n",
              "      <td>0</td>\n",
              "      <td>0</td>\n",
              "      <td>0</td>\n",
              "      <td>0</td>\n",
              "      <td>0</td>\n",
              "      <td>0</td>\n",
              "      <td>0</td>\n",
              "      <td>0</td>\n",
              "      <td>0</td>\n",
              "      <td>0</td>\n",
              "      <td>0</td>\n",
              "      <td>0</td>\n",
              "      <td>0</td>\n",
              "      <td>0</td>\n",
              "      <td>0</td>\n",
              "      <td>0</td>\n",
              "      <td>0</td>\n",
              "      <td>0</td>\n",
              "      <td>0</td>\n",
              "      <td>0</td>\n",
              "      <td>0</td>\n",
              "      <td>0</td>\n",
              "      <td>0</td>\n",
              "      <td>0</td>\n",
              "      <td>0</td>\n",
              "      <td>0</td>\n",
              "      <td>0</td>\n",
              "      <td>0</td>\n",
              "      <td>0</td>\n",
              "      <td>...</td>\n",
              "      <td>0</td>\n",
              "      <td>0</td>\n",
              "      <td>0</td>\n",
              "      <td>0</td>\n",
              "      <td>0</td>\n",
              "      <td>0</td>\n",
              "      <td>0</td>\n",
              "      <td>0</td>\n",
              "      <td>0</td>\n",
              "      <td>0</td>\n",
              "      <td>0</td>\n",
              "      <td>0</td>\n",
              "      <td>0</td>\n",
              "      <td>0</td>\n",
              "      <td>0</td>\n",
              "      <td>0</td>\n",
              "      <td>0</td>\n",
              "      <td>0</td>\n",
              "      <td>0</td>\n",
              "      <td>0</td>\n",
              "      <td>0</td>\n",
              "      <td>0</td>\n",
              "      <td>0</td>\n",
              "      <td>0</td>\n",
              "      <td>0</td>\n",
              "      <td>0</td>\n",
              "      <td>0</td>\n",
              "      <td>0</td>\n",
              "      <td>0</td>\n",
              "      <td>0</td>\n",
              "      <td>0</td>\n",
              "      <td>0</td>\n",
              "      <td>0</td>\n",
              "      <td>0</td>\n",
              "      <td>0</td>\n",
              "      <td>0</td>\n",
              "      <td>0</td>\n",
              "      <td>0</td>\n",
              "      <td>0</td>\n",
              "      <td>0</td>\n",
              "    </tr>\n",
              "    <tr>\n",
              "      <th>2</th>\n",
              "      <td>7</td>\n",
              "      <td>0</td>\n",
              "      <td>0</td>\n",
              "      <td>0</td>\n",
              "      <td>0</td>\n",
              "      <td>0</td>\n",
              "      <td>0</td>\n",
              "      <td>0</td>\n",
              "      <td>0</td>\n",
              "      <td>0</td>\n",
              "      <td>0</td>\n",
              "      <td>0</td>\n",
              "      <td>0</td>\n",
              "      <td>0</td>\n",
              "      <td>0</td>\n",
              "      <td>0</td>\n",
              "      <td>0</td>\n",
              "      <td>0</td>\n",
              "      <td>0</td>\n",
              "      <td>0</td>\n",
              "      <td>0</td>\n",
              "      <td>0</td>\n",
              "      <td>0</td>\n",
              "      <td>0</td>\n",
              "      <td>0</td>\n",
              "      <td>0</td>\n",
              "      <td>0</td>\n",
              "      <td>0</td>\n",
              "      <td>0</td>\n",
              "      <td>0</td>\n",
              "      <td>0</td>\n",
              "      <td>0</td>\n",
              "      <td>0</td>\n",
              "      <td>0</td>\n",
              "      <td>0</td>\n",
              "      <td>0</td>\n",
              "      <td>0</td>\n",
              "      <td>0</td>\n",
              "      <td>0</td>\n",
              "      <td>0</td>\n",
              "      <td>...</td>\n",
              "      <td>0</td>\n",
              "      <td>0</td>\n",
              "      <td>0</td>\n",
              "      <td>0</td>\n",
              "      <td>0</td>\n",
              "      <td>0</td>\n",
              "      <td>0</td>\n",
              "      <td>0</td>\n",
              "      <td>0</td>\n",
              "      <td>0</td>\n",
              "      <td>0</td>\n",
              "      <td>0</td>\n",
              "      <td>0</td>\n",
              "      <td>0</td>\n",
              "      <td>0</td>\n",
              "      <td>0</td>\n",
              "      <td>0</td>\n",
              "      <td>0</td>\n",
              "      <td>0</td>\n",
              "      <td>0</td>\n",
              "      <td>0</td>\n",
              "      <td>0</td>\n",
              "      <td>0</td>\n",
              "      <td>0</td>\n",
              "      <td>0</td>\n",
              "      <td>0</td>\n",
              "      <td>0</td>\n",
              "      <td>0</td>\n",
              "      <td>0</td>\n",
              "      <td>0</td>\n",
              "      <td>0</td>\n",
              "      <td>0</td>\n",
              "      <td>0</td>\n",
              "      <td>0</td>\n",
              "      <td>0</td>\n",
              "      <td>0</td>\n",
              "      <td>0</td>\n",
              "      <td>0</td>\n",
              "      <td>0</td>\n",
              "      <td>0</td>\n",
              "    </tr>\n",
              "    <tr>\n",
              "      <th>3</th>\n",
              "      <td>9</td>\n",
              "      <td>0</td>\n",
              "      <td>0</td>\n",
              "      <td>0</td>\n",
              "      <td>0</td>\n",
              "      <td>0</td>\n",
              "      <td>0</td>\n",
              "      <td>0</td>\n",
              "      <td>0</td>\n",
              "      <td>0</td>\n",
              "      <td>0</td>\n",
              "      <td>0</td>\n",
              "      <td>0</td>\n",
              "      <td>0</td>\n",
              "      <td>0</td>\n",
              "      <td>0</td>\n",
              "      <td>0</td>\n",
              "      <td>0</td>\n",
              "      <td>0</td>\n",
              "      <td>0</td>\n",
              "      <td>0</td>\n",
              "      <td>0</td>\n",
              "      <td>0</td>\n",
              "      <td>0</td>\n",
              "      <td>0</td>\n",
              "      <td>0</td>\n",
              "      <td>0</td>\n",
              "      <td>0</td>\n",
              "      <td>0</td>\n",
              "      <td>0</td>\n",
              "      <td>0</td>\n",
              "      <td>0</td>\n",
              "      <td>0</td>\n",
              "      <td>0</td>\n",
              "      <td>0</td>\n",
              "      <td>0</td>\n",
              "      <td>0</td>\n",
              "      <td>0</td>\n",
              "      <td>0</td>\n",
              "      <td>0</td>\n",
              "      <td>...</td>\n",
              "      <td>15</td>\n",
              "      <td>0</td>\n",
              "      <td>0</td>\n",
              "      <td>0</td>\n",
              "      <td>0</td>\n",
              "      <td>0</td>\n",
              "      <td>0</td>\n",
              "      <td>0</td>\n",
              "      <td>0</td>\n",
              "      <td>0</td>\n",
              "      <td>0</td>\n",
              "      <td>0</td>\n",
              "      <td>0</td>\n",
              "      <td>0</td>\n",
              "      <td>0</td>\n",
              "      <td>0</td>\n",
              "      <td>0</td>\n",
              "      <td>0</td>\n",
              "      <td>0</td>\n",
              "      <td>0</td>\n",
              "      <td>0</td>\n",
              "      <td>0</td>\n",
              "      <td>0</td>\n",
              "      <td>0</td>\n",
              "      <td>0</td>\n",
              "      <td>0</td>\n",
              "      <td>0</td>\n",
              "      <td>0</td>\n",
              "      <td>0</td>\n",
              "      <td>0</td>\n",
              "      <td>0</td>\n",
              "      <td>0</td>\n",
              "      <td>0</td>\n",
              "      <td>0</td>\n",
              "      <td>0</td>\n",
              "      <td>0</td>\n",
              "      <td>0</td>\n",
              "      <td>0</td>\n",
              "      <td>0</td>\n",
              "      <td>0</td>\n",
              "    </tr>\n",
              "    <tr>\n",
              "      <th>4</th>\n",
              "      <td>5</td>\n",
              "      <td>0</td>\n",
              "      <td>0</td>\n",
              "      <td>0</td>\n",
              "      <td>0</td>\n",
              "      <td>0</td>\n",
              "      <td>0</td>\n",
              "      <td>0</td>\n",
              "      <td>0</td>\n",
              "      <td>0</td>\n",
              "      <td>0</td>\n",
              "      <td>0</td>\n",
              "      <td>0</td>\n",
              "      <td>0</td>\n",
              "      <td>0</td>\n",
              "      <td>0</td>\n",
              "      <td>0</td>\n",
              "      <td>0</td>\n",
              "      <td>0</td>\n",
              "      <td>0</td>\n",
              "      <td>0</td>\n",
              "      <td>0</td>\n",
              "      <td>0</td>\n",
              "      <td>0</td>\n",
              "      <td>0</td>\n",
              "      <td>0</td>\n",
              "      <td>0</td>\n",
              "      <td>0</td>\n",
              "      <td>0</td>\n",
              "      <td>0</td>\n",
              "      <td>0</td>\n",
              "      <td>0</td>\n",
              "      <td>0</td>\n",
              "      <td>0</td>\n",
              "      <td>0</td>\n",
              "      <td>0</td>\n",
              "      <td>0</td>\n",
              "      <td>0</td>\n",
              "      <td>0</td>\n",
              "      <td>0</td>\n",
              "      <td>...</td>\n",
              "      <td>0</td>\n",
              "      <td>0</td>\n",
              "      <td>0</td>\n",
              "      <td>0</td>\n",
              "      <td>0</td>\n",
              "      <td>0</td>\n",
              "      <td>0</td>\n",
              "      <td>0</td>\n",
              "      <td>0</td>\n",
              "      <td>0</td>\n",
              "      <td>0</td>\n",
              "      <td>0</td>\n",
              "      <td>0</td>\n",
              "      <td>0</td>\n",
              "      <td>0</td>\n",
              "      <td>0</td>\n",
              "      <td>0</td>\n",
              "      <td>0</td>\n",
              "      <td>0</td>\n",
              "      <td>0</td>\n",
              "      <td>0</td>\n",
              "      <td>0</td>\n",
              "      <td>0</td>\n",
              "      <td>0</td>\n",
              "      <td>0</td>\n",
              "      <td>0</td>\n",
              "      <td>0</td>\n",
              "      <td>0</td>\n",
              "      <td>0</td>\n",
              "      <td>0</td>\n",
              "      <td>0</td>\n",
              "      <td>0</td>\n",
              "      <td>0</td>\n",
              "      <td>0</td>\n",
              "      <td>0</td>\n",
              "      <td>0</td>\n",
              "      <td>0</td>\n",
              "      <td>0</td>\n",
              "      <td>0</td>\n",
              "      <td>0</td>\n",
              "    </tr>\n",
              "  </tbody>\n",
              "</table>\n",
              "<p>5 rows × 785 columns</p>\n",
              "</div>"
            ],
            "text/plain": [
              "   label  features_0  features_1  ...  features_781  features_782  features_783\n",
              "0      6           0           0  ...             0             0             0\n",
              "1      5           0           0  ...             0             0             0\n",
              "2      7           0           0  ...             0             0             0\n",
              "3      9           0           0  ...             0             0             0\n",
              "4      5           0           0  ...             0             0             0\n",
              "\n",
              "[5 rows x 785 columns]"
            ]
          },
          "metadata": {
            "tags": []
          },
          "execution_count": 4
        }
      ]
    },
    {
      "cell_type": "markdown",
      "metadata": {
        "id": "JqYUXnTifzcy"
      },
      "source": [
        "Now that our features are aligned, let's visualize some images"
      ]
    },
    {
      "cell_type": "code",
      "metadata": {
        "id": "czgzibpf6ZXF"
      },
      "source": [
        "# ENTER CODE TO VISUALIZE THE IMAGE\n"
      ],
      "execution_count": null,
      "outputs": []
    },
    {
      "cell_type": "code",
      "metadata": {
        "id": "ixL-XI7a8l9R"
      },
      "source": [
        "# ENTER CODE TO VISUALIZE distribution of bag labels and the number of bags in both train and test set"
      ],
      "execution_count": null,
      "outputs": []
    },
    {
      "cell_type": "code",
      "metadata": {
        "id": "pRnhZePU2Kjw"
      },
      "source": [
        "# ENTER CODE TO VISUALIZE distribution of bag size "
      ],
      "execution_count": null,
      "outputs": []
    },
    {
      "cell_type": "markdown",
      "metadata": {
        "id": "e6PWqmo3KHJL"
      },
      "source": [
        "Distribution of labels seems to be equal between the two bags, let's check the distribution of instances"
      ]
    },
    {
      "cell_type": "markdown",
      "metadata": {
        "id": "6mPR_uBzpJoO"
      },
      "source": [
        "Let's visualize some of these bag contents"
      ]
    },
    {
      "cell_type": "code",
      "metadata": {
        "id": "Ce36cqwBpMtV"
      },
      "source": [
        "def visualize_bags(mnist_arr, bags, n_bags):\n",
        "  sampled_indices = np.random.choice(len(bags), n_bags, replace=False)\n",
        "  sampled_bags = np.array(bags)[sampled_indices]\n",
        "  max_instances_num = np.max([len(bag[0]) for bag in sampled_bags])\n",
        "  _, axes = plt.subplots(len(sampled_bags), max_instances_num,\n",
        "                         figsize=(10 * len(sampled_bags), \n",
        "                                  10 * max_instances_num))\n",
        "  for idx, bag in zip(np.arange(n_bags), sampled_bags):\n",
        "    ax = axes[idx, :]\n",
        "    bag_label = bag[-1]\n",
        "    instance_size = None\n",
        "    for i in range(max_instances_num):\n",
        "      if i >= len(bag[0]):\n",
        "        ax[i].imshow(np.zeros(instance_size)) # Pad with empty images if bag has fewer instances than max\n",
        "      else:\n",
        "        img = mnist_arr[bag[0][i]]\n",
        "        if instance_size is None:\n",
        "          w = int(np.sqrt(len(img)))\n",
        "          instance_size = (w, w)\n",
        "        ax[i].imshow(img.reshape(instance_size))\n",
        "        if i == max_instances_num // 2:\n",
        "          ax[i].set_title('Bag Label: {}'.format(bag_label), fontsize=50)\n"
      ],
      "execution_count": null,
      "outputs": []
    },
    {
      "cell_type": "code",
      "metadata": {
        "id": "Rm8zupy1r8P6"
      },
      "source": [
        "# visualize_bags(mnist_arr_train, train_bags, 5)"
      ],
      "execution_count": null,
      "outputs": []
    },
    {
      "cell_type": "code",
      "metadata": {
        "id": "1XcP1_3Os16u"
      },
      "source": [
        "def extract_summary_stats(mnist_features, bags):\n",
        "  max_ = np.array([np.max(mnist_features[bag[0]]) for bag in bags])\n",
        "  min_ = np.array([np.min(mnist_features[bag[0]]) for bag in bags])\n",
        "  mean_ = np.array([np.mean(mnist_features[bag[0]]) for bag in bags])\n",
        "  var_ = np.array([np.var(mnist_features[bag[0]]) for bag in bags])\n",
        "  med_ = np.array([np.median(mnist_features[bag[0]]) for bag in bags])\n",
        "  return np.concatenate([max_.reshape(-1, 1), \n",
        "                         min_.reshape(-1, 1), \n",
        "                         mean_.reshape(-1, 1), \n",
        "                         var_.reshape(-1, 1), \n",
        "                         med_.reshape(-1, 1)], axis=1)"
      ],
      "execution_count": null,
      "outputs": []
    },
    {
      "cell_type": "code",
      "metadata": {
        "id": "A96jrXz60ubv"
      },
      "source": [
        "X_train_stats = extract_summary_stats(X_train, train_bags)\n",
        "X_test_stats = extract_summary_stats(X_test, test_bags)"
      ],
      "execution_count": null,
      "outputs": []
    },
    {
      "cell_type": "code",
      "metadata": {
        "colab": {
          "base_uri": "https://localhost:8080/"
        },
        "id": "QMSSeA850ykh",
        "outputId": "bf5d5471-119c-47f4-9db9-3837a6b7ed45"
      },
      "source": [
        "print(X_train_stats.shape, train_labels.shape)\n",
        "print(X_test_stats.shape, test_labels.shape)"
      ],
      "execution_count": null,
      "outputs": [
        {
          "output_type": "stream",
          "text": [
            "(4461, 5) (4461,)\n",
            "(2230, 5) (2230,)\n"
          ],
          "name": "stdout"
        }
      ]
    },
    {
      "cell_type": "code",
      "metadata": {
        "id": "FTwfaReO1TAM"
      },
      "source": [
        "import seaborn as sns\n",
        "from sklearn.decomposition import PCA\n",
        "from sklearn.preprocessing import StandardScaler"
      ],
      "execution_count": null,
      "outputs": []
    },
    {
      "cell_type": "code",
      "metadata": {
        "id": "U7duuR111dk6"
      },
      "source": [
        "# TRANSFORM OBJECT USING PCA and visualize "
      ],
      "execution_count": null,
      "outputs": []
    },
    {
      "cell_type": "code",
      "metadata": {
        "id": "HsDe2YRaepZS"
      },
      "source": [
        "def get_roc_auc(y_true, y_pred):\n",
        "    fpr, tpr, _  = roc_curve(y_true, y_pred)\n",
        "    roc_auc = auc(fpr, tpr)\n",
        "    return roc_auc\n",
        "\n",
        "\n",
        "def get_pr_auc(y_true, y_pred):\n",
        "    precision, recall, _ = precision_recall_curve(y_true, y_pred, pos_label=1)\n",
        "    pr_auc = auc(recall, precision)\n",
        "    return pr_auc\n",
        "\n",
        "\n",
        "def get_accuracy(y_true, y_pred):\n",
        "    return balanced_accuracy_score(y_true, y_pred)\n",
        "\n",
        "def plot_roc_curve(y_true, y_pred, label, ax, sample=False):\n",
        "    fpr, tpr, _ = roc_curve(y_true, y_pred)\n",
        "    roc_auc = auc(fpr, tpr)\n",
        "    if sample:\n",
        "        sns.lineplot(fpr[::sample], tpr[::sample], lw=1, ax=ax, alpha=0.3, label=\"{} - AUC: %0.2f\".format(label) % (roc_auc))\n",
        "    else:\n",
        "        sns.lineplot(fpr, tpr, lw=1, ax=ax, alpha=0.3, label=\"{} - AUC: %0.2f\".format(label) % (roc_auc), rasterized=True)\n",
        "\n",
        "def plot_pr_curve(y_true, y_pred, label, ax, sample=False):\n",
        "    precision, recall, _ = precision_recall_curve(y_true, y_pred, pos_label=1)\n",
        "    pr_auc = auc(recall, precision)\n",
        "    if sample:\n",
        "        sns.lineplot(recall[::sample], precision[::sample], lw=1, alpha=0.3, ax=ax, label=\"{} - AUC: %0.2f\".format(label) % (pr_auc))\n",
        "    else:\n",
        "        sns.lineplot(recall, precision, lw=1, alpha=0.3, ax=ax, label=\"{} - AUC: %0.2f\".format(label) % (pr_auc), rasterized=True)\n",
        "\n",
        "def customise_roc_pr_plots(axes, label_size=15, font_size=15, linewidth=5, patch_size=20):\n",
        "    # Customizing plots\n",
        "    for ax in axes:\n",
        "        ax.xaxis.label.set_size(label_size)\n",
        "        ax.yaxis.label.set_size(label_size)\n",
        "        for axis in [ax.xaxis, ax.yaxis]:\n",
        "            for tick in axis.get_major_ticks():\n",
        "                tick.label.set_fontsize(font_size)\n",
        "        plt.setp(ax.get_legend().get_texts(), fontsize='{}'.format(font_size))\n",
        "        plt.setp(ax.lines, linewidth=linewidth)\n",
        "    axes[0].set_xlabel('False Positive Rate')\n",
        "    axes[0].set_ylabel('True Positive Rate')\n",
        "    for ax in axes:\n",
        "        for axis in [ax.xaxis, ax.yaxis]:\n",
        "            axis.label.set_size(font_size)\n",
        "    axes[1].set_xlabel('Recall')\n",
        "    axes[1].set_ylabel('Precision')\n",
        "    for ax in axes:\n",
        "        ax.legend(loc='best', prop={'size': patch_size})\n",
        "\n"
      ],
      "execution_count": null,
      "outputs": []
    },
    {
      "cell_type": "code",
      "metadata": {
        "id": "XHfRtASg2HsC"
      },
      "source": [
        "from sklearn.linear_model import LogisticRegression\n",
        "from sklearn.metrics import accuracy_score, balanced_accuracy_score, roc_curve, precision_recall_curve, auc\n",
        "from scipy.stats import mode\n",
        "\n",
        "# Train a Logistic Regression Model and visualize results \n"
      ],
      "execution_count": null,
      "outputs": []
    },
    {
      "cell_type": "markdown",
      "metadata": {
        "id": "ym2llIOWDSjC"
      },
      "source": [
        "Now, le us try to compute Hausdorff distance from the test samples to the train samples"
      ]
    },
    {
      "cell_type": "code",
      "metadata": {
        "colab": {
          "base_uri": "https://localhost:8080/"
        },
        "id": "1uqnuA_i2PsO",
        "outputId": "356a64b6-11de-40f0-f8ed-6c0f6a39d73e"
      },
      "source": [
        "from sklearn.metrics import pairwise_distances\n",
        "\n",
        "pairwise_distance = pairwise_distances(X_test, X_train)\n",
        "print(pairwise_distance.shape)\n"
      ],
      "execution_count": null,
      "outputs": [
        {
          "output_type": "stream",
          "text": [
            "(10000, 20000)\n"
          ],
          "name": "stdout"
        }
      ]
    },
    {
      "cell_type": "code",
      "metadata": {
        "colab": {
          "base_uri": "https://localhost:8080/",
          "height": 83,
          "referenced_widgets": [
            "774b0008b5244be6aa78e559bff60975",
            "b25812c5ad29493bb3f0eebddd77f9ee",
            "4239fb22c18248508c516096944e7ea0",
            "9089b7576df845df9906894012c8e2b7",
            "a0d322f048234277b505fe00843adcef",
            "ffdadeae6f754903bfd4b277c25a2c27",
            "c95df810e5524cd0a465d2cda08b26e7",
            "1c231f37d41d4693a1d9665ca25e2fe8"
          ]
        },
        "id": "Q6NfrKh9AIda",
        "outputId": "e1026e65-0d65-4627-e981-6a01a89a8c6d"
      },
      "source": [
        "all_bag_distances = []\n",
        "\n",
        "for test_bag in tqdm(test_bags, total=len(test_bags)):\n",
        "  test_bag_instances = pairwise_distance[test_bag]\n",
        "  bag_distances = []\n",
        "  for train_bag in train_bags:\n",
        "    test_train_distance = np.max(np.min(test_bag_instances[:, train_bag], axis=1))\n",
        "    train_test_distance = np.max(np.min(test_bag_instances[:, train_bag].transpose(), axis=1))\n",
        "    bag_distances.append(max(test_train_distance, train_test_distance))\n",
        "  all_bag_distances.append(np.array(bag_distances).reshape(1, -1))\n",
        "all_bag_distances = np.concatenate(all_bag_distances, axis=0)\n",
        "all_bag_distances.shape"
      ],
      "execution_count": null,
      "outputs": [
        {
          "output_type": "display_data",
          "data": {
            "application/vnd.jupyter.widget-view+json": {
              "model_id": "774b0008b5244be6aa78e559bff60975",
              "version_minor": 0,
              "version_major": 2
            },
            "text/plain": [
              "HBox(children=(FloatProgress(value=0.0, max=2230.0), HTML(value='')))"
            ]
          },
          "metadata": {
            "tags": []
          }
        },
        {
          "output_type": "stream",
          "text": [
            "\n"
          ],
          "name": "stdout"
        },
        {
          "output_type": "execute_result",
          "data": {
            "text/plain": [
              "(2230, 4461)"
            ]
          },
          "metadata": {
            "tags": []
          },
          "execution_count": 41
        }
      ]
    },
    {
      "cell_type": "code",
      "metadata": {
        "colab": {
          "base_uri": "https://localhost:8080/"
        },
        "id": "tWJhH0FqK_0R",
        "outputId": "c09b8ff9-ac54-4550-f3cb-b6a83ae6374e"
      },
      "source": [
        "y_pred_test_knn = mode(train_labels[np.argsort(all_bag_distances, axis=1)[:, :10]], axis=1)[0].flatten()\n",
        "print(accuracy_score(test_labels, y_pred_test_knn))\n",
        "print(balanced_accuracy_score(test_labels, y_pred_test_knn))"
      ],
      "execution_count": null,
      "outputs": [
        {
          "output_type": "stream",
          "text": [
            "0.6968609865470852\n",
            "0.6207032139235529\n"
          ],
          "name": "stdout"
        }
      ]
    },
    {
      "cell_type": "markdown",
      "metadata": {
        "id": "NxIJ2jyBLzYS"
      },
      "source": [
        "Can we do even better?"
      ]
    },
    {
      "cell_type": "code",
      "metadata": {
        "id": "z4db8BA0L1lZ"
      },
      "source": [
        "import torch.nn.functional as F\n",
        "import torch\n",
        "from torch import nn\n",
        "from torch.nn import BCELoss\n",
        "from torch.optim import LBFGS, Adam\n",
        "from torch.utils.data import Dataset, DataLoader"
      ],
      "execution_count": null,
      "outputs": []
    },
    {
      "cell_type": "code",
      "metadata": {
        "id": "SHe8xcy3M2ki"
      },
      "source": [
        "# Code Logistic Regression applying Multiple Instance Learning Assumption"
      ],
      "execution_count": null,
      "outputs": []
    },
    {
      "cell_type": "code",
      "metadata": {
        "id": "sJrY1ghMOsEc"
      },
      "source": [
        "# logit_mi = LogisticRegressionMI(64, mode='max')\n",
        "# criterion = BCELoss()\n",
        "# optimizer = LBFGS(logit_mi.parameters(), lr=0.001, max_iter=1000)\n",
        "# logit_mi.train()\n",
        "\n",
        "\n",
        "# def closure():\n",
        "#     optimizer.zero_grad()\n",
        "#     output = logit_mi(torch.Tensor(X_train), train_bags)\n",
        "#     loss = criterion(output, torch.Tensor(train_labels))\n",
        "#     loss.backward()\n",
        "#     return loss\n",
        "\n",
        "# optimizer.step(closure) \n",
        "\n",
        "# logit_mi.eval()\n",
        "# with torch.no_grad():\n",
        "#   y_pred_logit_mi_test = logit_mi(torch.Tensor(X_test), test_bags).detach().numpy()\n",
        "#   print(\"ROC AUC: {}\".format(get_roc_auc(test_labels, y_pred_logit_mi_test)))\n",
        "#   print(\"PR AUC: {}\".format(get_pr_auc(test_labels, y_pred_logit_mi_test)))\n",
        "#   print(\"Accuracy Score: {}\".format(accuracy_score(test_labels, y_pred_logit_mi_test >= 0.5)))\n",
        "#   print(\"Balanced Accuracy Score: {}\".format(balanced_accuracy_score(test_labels, y_pred_logit_mi_test >= 0.5)))"
      ],
      "execution_count": null,
      "outputs": []
    },
    {
      "cell_type": "code",
      "metadata": {
        "id": "7MSZvggjOvgN"
      },
      "source": [
        "# logit_mi = LogisticRegressionMI(64, mode='mean')\n",
        "# criterion = BCELoss()\n",
        "# optimizer = LBFGS(logit_mi.parameters(), lr=0.001, max_iter=1000)\n",
        "# logit_mi.train()\n",
        "\n",
        "\n",
        "# def closure():\n",
        "#     optimizer.zero_grad()\n",
        "#     output = logit_mi(torch.Tensor(X_train), train_bags)\n",
        "#     loss = criterion(output, torch.Tensor(train_labels))\n",
        "#     loss.backward()\n",
        "#     return loss\n",
        "\n",
        "# optimizer.step(closure) \n",
        "\n",
        "# logit_mi.eval()\n",
        "# with torch.no_grad():\n",
        "#   y_pred_logit_mi_test = logit_mi(torch.Tensor(X_test), test_bags).detach().numpy()\n",
        "#   print(\"ROC AUC: {}\".format(get_roc_auc(test_labels, y_pred_logit_mi_test)))\n",
        "#   print(\"PR AUC: {}\".format(get_pr_auc(test_labels, y_pred_logit_mi_test)))\n",
        "#   print(\"Accuracy Score: {}\".format(accuracy_score(test_labels, y_pred_logit_mi_test >= 0.5)))\n",
        "#   print(\"Accuracy Score: {}\".format(balanced_accuracy_score(test_labels, y_pred_logit_mi_test >= 0.5)))"
      ],
      "execution_count": null,
      "outputs": []
    },
    {
      "cell_type": "code",
      "metadata": {
        "id": "qjxyNYud-V4E"
      },
      "source": [
        ""
      ],
      "execution_count": null,
      "outputs": []
    }
  ]
}